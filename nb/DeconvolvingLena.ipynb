{
 "cells": [
  {
   "cell_type": "markdown",
   "metadata": {},
   "source": [
    "# Deconvolving Lena"
   ]
  },
  {
   "cell_type": "code",
   "execution_count": 21,
   "metadata": {},
   "outputs": [],
   "source": [
    "using OffsetArrays\n",
    "using StaticArrays\n",
    "using Images\n",
    "using FileIO\n",
    "using Printf"
   ]
  },
  {
   "cell_type": "code",
   "execution_count": 22,
   "metadata": {},
   "outputs": [],
   "source": [
    "using JImages"
   ]
  },
  {
   "cell_type": "markdown",
   "metadata": {},
   "source": [
    "## Basis"
   ]
  },
  {
   "cell_type": "markdown",
   "metadata": {},
   "source": [
    "### Spatial Filter"
   ]
  },
  {
   "cell_type": "markdown",
   "metadata": {},
   "source": [
    "A spatial filter consists on a *neighborhood* (tipically a small window, say 3x3 of 5x5 around the pixel) and a *predefined operation* which is performed on the image pixels encompassed by the neighborhood. Filtering creates a new pixel with coordinates equal to the coordinates of the center of the neighborhood and whose value is the filtering operation. A *filtered* image is generated as the center of the filter visits each pixel in the input image. "
   ]
  },
  {
   "cell_type": "markdown",
   "metadata": {},
   "source": [
    "<img src=\"SpatialFiltering.png\">"
   ]
  },
  {
   "cell_type": "markdown",
   "metadata": {},
   "source": [
    "### Spatial correlation and convolution"
   ]
  },
  {
   "cell_type": "markdown",
   "metadata": {},
   "source": [
    "Correlation and convolution are closely related concept. *Correlation is the process of moving a filter mask over the image and computing the sum of products at each location*. The mechanics of convolution are the same, except that the filter is first rotated by 180°. For symmetric filters both operations are the same."
   ]
  },
  {
   "cell_type": "markdown",
   "metadata": {},
   "source": [
    "<img src=\"corrAndConv.png\"> "
   ]
  },
  {
   "cell_type": "markdown",
   "metadata": {},
   "source": [
    "The figure shows both operations in the case of a 1D function *f* and filter *w*. \n",
    "- (a) shows the f and w\n",
    "- (b) shwows the starting position for corr (left) or conv (right). Notice that there are parts of the function that do not overlap. The solution to this problem is to pad f with enough 0s on either side to allow each pixel in w to visit every pixel in f. If the filter is of size m, we need m - 1 0s on either side of f. \n",
    "- (c) shows a padded function.\n",
    "- The process of sliding the filter over f is shown in d through g. The first value of correlation is the sum of products of f and w for the initial position shown in c (the sum of products is 0). This corresponds to a displacement x = 0. To obtain the second value of correlation, we shift w one pixel location to the right (a displacement of x = 1) and compute the sum of products. The result again is 0. In fact, the first nonzero result is when x = 3, in which case the 8 in w overlaps the 1 in f and the result of correlation is 8. \n",
    "- Proceeding in this manner, we obtain the full correlation result in Fig. (g). Note that it took 12 values of x (i.e., x = 0, 1, 2, ..., 11) to fully slide w past f so that each pixel in w visited every pixel in f."
   ]
  },
  {
   "cell_type": "markdown",
   "metadata": {},
   "source": [
    "- correlation is a function of displacement of the filter. IThe first value of correlation corresponds to zero displacement of the filter, the second corresponds to one unit displacement, and so on. \n",
    "- correlating a filter w with a function that contains all 0s and a single 1 yields a result that is a copy of w , but rotated by 180°. We call a function that contains a single 1 with the rest being 0s a discrete unit impulse. So we conclude that correlation of a function with a discrete unit impulse yields a rotated version of the function at the location of the impulse."
   ]
  },
  {
   "cell_type": "markdown",
   "metadata": {},
   "source": [
    "- Instead a fundamental property of convolution is that convolving a function with a unit impulse yields a copy of the function at the location of the impulse. \n",
    "- To perform convolution all we do is rotate one function by 180° and perform the same operations as in correlation. As it turns out, it makes no difference which of the two functions we rotate."
   ]
  },
  {
   "cell_type": "markdown",
   "metadata": {},
   "source": [
    "<img src=\"corrAndConv2D.png\">  "
   ]
  },
  {
   "cell_type": "markdown",
   "metadata": {},
   "source": [
    "Extension to images (2D) is shown in the figure: f(x,y) is a 5x5 function and w(x,y) is a 3x3 filter. \n",
    "- We start by padding each dimension with 3-1 = 2 zeros in each side. Thus the padded image is 9 x 9. For a filter of size m * n, we pad the image with a minimum of m-1 rows of 0s at the top and bottom and n-1 columns of 0s on the left and right. In (a) the filter is in the initial position.\n",
    "- (b) shows the correlation result. The first element different from zero is 9. Then, as we slide the window we obtain a rotated copy of w. Finally we crop to the dimensions of f. \n",
    "- (c) shows how to make the convolution. We need to *flip* the filter, changing the order of files and columns (the equivalent of rotatin the filter by 180 degrees). \n",
    "- (d) shows that the result of the convoltuion is a copy of the initial filter, with the dimension, in (e) of the image f (after cropping). "
   ]
  },
  {
   "cell_type": "markdown",
   "metadata": {},
   "source": [
    "The *correlation* of a filter w(x, y) of size m * n with an image f(x, y), denoted as $w(x, y) \\star f(x, y)$, is:\n",
    "$$\n",
    "w(x,y) \\star f(x,y) = \\sum_{s = -a}^{a} \\sum_{t = -b}^{b} w(s,t) f(x + s, y + t) \n",
    "$$\n",
    "\n",
    "While  the *convolution* of a filter w(x, y) of size m * n with an image f(x, y), denoted as $w(x, y) \\ast f(x, y)$, is:\n",
    "$$\n",
    "w(x,y) \\ast f(x,y) = \\sum_{s = -a}^{a} \\sum_{t = -b}^{b} w(s,t) f(x-s, y-t) \n",
    "$$\n",
    "\n",
    "Flipping and shifting f (in convolution) instead of w is done for notational simplicity. The equations are evaluated for all values of the displacement variables x and y so that every element of w visits every pixel in f, which we assume has been padded appropriately."
   ]
  },
  {
   "cell_type": "markdown",
   "metadata": {},
   "source": [
    "### Example: Generating a gaussian filter (or kernel)"
   ]
  },
  {
   "cell_type": "markdown",
   "metadata": {},
   "source": [
    "A Gaussian function of two variables, with mean $\\mu=0$ and std $\\sigma$ has the  form\n",
    "\n",
    "$$\n",
    "g(x,y) = \\frac{1}{\\sqrt{2\\pi\\sigma^2}}e^{-\\frac{x^2 + y^2}{2\\sigma^2}}\n",
    "$$\n",
    "\n",
    "To generate, say, a 3x3 filter we sample it about its center. Thus, $w_1 = h(-1, -1), w_2 = h(-1, 0), ..., w_9 = h(1, 1)$. \n"
   ]
  },
  {
   "cell_type": "markdown",
   "metadata": {},
   "source": [
    "## Functions"
   ]
  },
  {
   "cell_type": "markdown",
   "metadata": {},
   "source": [
    "### Flip\n",
    "\n",
    "- Rotates a matrix by 180 deg"
   ]
  },
  {
   "cell_type": "code",
   "execution_count": 23,
   "metadata": {},
   "outputs": [
    {
     "data": {
      "text/plain": [
       "flip2d (generic function with 1 method)"
      ]
     },
     "execution_count": 23,
     "metadata": {},
     "output_type": "execute_result"
    }
   ],
   "source": [
    "function flip2d(x::Array{Float64,2})\n",
    "    y = copy(x)\n",
    "    for d in 1:2\n",
    "        y = reverse(y, dims=d)\n",
    "    end\n",
    "    return y\n",
    "end"
   ]
  },
  {
   "cell_type": "markdown",
   "metadata": {},
   "source": [
    "### Gaussian Kernel"
   ]
  },
  {
   "cell_type": "code",
   "execution_count": 24,
   "metadata": {},
   "outputs": [
    {
     "data": {
      "text/plain": [
       "G (generic function with 8 methods)"
      ]
     },
     "execution_count": 24,
     "metadata": {},
     "output_type": "execute_result"
    }
   ],
   "source": [
    "G(x,y,σ=1.0) = exp(-(x^2 + y^2) / (2 * σ^2) ) # not normalised\n",
    "G(x::Int,y::Int,σ::Float64=1.0) = exp(-(x^2 + y^2) / (2 * σ^2) )\n",
    "G(x::Float64,y::Float64,σ::Float64=1.0) = exp(-(x^2 + y^2) / (2 * σ^2) )\n",
    "\n",
    "G(I::CartesianIndex{2}, σ::Float64=1.0) = G(I.I..., σ)  # I.I... matches the tuple I.I to values (x,y)\n"
   ]
  },
  {
   "cell_type": "code",
   "execution_count": 25,
   "metadata": {},
   "outputs": [
    {
     "data": {
      "text/plain": [
       "gaussian_filter (generic function with 1 method)"
      ]
     },
     "execution_count": 25,
     "metadata": {},
     "output_type": "execute_result"
    }
   ],
   "source": [
    "function gaussian_filter(σ)\n",
    "    l = 4 * ceil(Int, σ) + 1 # for \\sigma = 1 5 x 5 filter\n",
    "    w = l÷2\n",
    "    gauss = SMatrix{l,l}(map(i->G(i, σ), CartesianIndices((-w:w, -w:w)))) \n",
    "    gauss./sum(gauss)  #divide all elements of gauss by its sum to normalise\n",
    "end"
   ]
  },
  {
   "cell_type": "markdown",
   "metadata": {},
   "source": [
    "### Filter frame (neighboors)"
   ]
  },
  {
   "cell_type": "markdown",
   "metadata": {},
   "source": [
    "To perform a convolution, we slide a frame of the size of the filter (we will assume it to be squared for simplicity, like `w` in the exapmple above) centered in each element of the matrix representing the function to be convoluted (`fxy`), then multiply the elements of the filter by the elements contained in the frame and sum the products, replacing the value in the center of the frame by the result of the operation.\n",
    "\n",
    "Each element of `fxy` is labeled by a CartexianIndex (i,j). Thus, we can represent the frame surrounding this element by (i-w:i+w, j-w:j+w), where w is the integer divison of the filter size and 2. For a 3 x 3 filter, w = 1. Notice that the idea of the sliding frame is well defined for filters of odd dimensions. For filters of even dimensions one needs to pad the filter with extra zeros. "
   ]
  },
  {
   "cell_type": "code",
   "execution_count": 26,
   "metadata": {},
   "outputs": [
    {
     "data": {
      "text/plain": [
       "filter_frame (generic function with 1 method)"
      ]
     },
     "execution_count": 26,
     "metadata": {},
     "output_type": "execute_result"
    }
   ],
   "source": [
    "@inline function filter_frame(I::CartesianIndex{2}, filter_size::Int) \n",
    "    # assume that the filter is squared\n",
    "    w = filter_size÷2   \n",
    "    ntuple(i->(I.I[i]-w): (I.I[i]+w), 2)  # for N=2 i runs (1,2)\n",
    "end"
   ]
  },
  {
   "cell_type": "markdown",
   "metadata": {},
   "source": [
    "Define the filter `w` as in the example above:"
   ]
  },
  {
   "cell_type": "markdown",
   "metadata": {},
   "source": [
    "### Padding"
   ]
  },
  {
   "cell_type": "markdown",
   "metadata": {},
   "source": [
    "Suppose we want to pad an image with a border. Remember that for a filter of size m * n, we need to pad the image with a minimum of m-1 rows of 0s at the top and bottom and n-1 columns of 0s on the left and right. In (a) the filter is in the initial position. Let's assume for convenience that the filter is squared (mxm). Thus, if the image has size (s,l) an we define border = m-1 = 2, we need to pad with s + border (left/right), and s + border (top/bottom), so (s + 2 * border) in each axis. \n",
    "\n",
    "Suppose, as in our examples above that the image has size 5x5 and the filter has size 3x3. Then, m=2 and the passed image will have a size 5 + 2 * 2 = 9 in each axis. "
   ]
  },
  {
   "cell_type": "code",
   "execution_count": 27,
   "metadata": {},
   "outputs": [
    {
     "data": {
      "text/plain": [
       "pad (generic function with 1 method)"
      ]
     },
     "execution_count": 27,
     "metadata": {},
     "output_type": "execute_result"
    }
   ],
   "source": [
    "function pad(data, border)\n",
    "    padded_size  = map(s->s+2*border, size(data))  # in each axis \n",
    "    \n",
    "    # the padded_range is relative to the main image. \n",
    "    # We want to extend it to the left/up (1-border) and to the right/down (s+border)\n",
    "    padded_range = map(s->(1-border):(s+border), size(data))\n",
    "    \n",
    "    # the range to index the output image extends from 1:s in each direction\n",
    "    range        = CartesianIndices(map(s->1:s, size(data))) \n",
    "    \n",
    "    # zeros dimension sxs and offset array \n",
    "    odata        = OffsetArray(zeros(eltype(data), padded_size), padded_range...)\n",
    "    \n",
    "    odata[range] = data # fill the padded image with the original data\n",
    "     \n",
    "    return odata, collect(range)\n",
    "end"
   ]
  },
  {
   "cell_type": "markdown",
   "metadata": {},
   "source": [
    "### Convolution "
   ]
  },
  {
   "cell_type": "markdown",
   "metadata": {},
   "source": [
    "The function is applied like this\n",
    "\n",
    "`f_convolved .= convolve2D.(range,(padded_img,), (filter,))`\n",
    "\n",
    "This means that each element of the blurred image (f_convolved .=) is computed passing an element of the range that was produced by the padding (CartesianIndices ranging from 1:5 in each axis), and the full padded_img and filter (thus the notation (padded_img,) an (filter,)). The algorithm goes like this:\n",
    "\n",
    "1. Given an index of the original image (.eg, (3,3), whose value is 1), take its neighborhood, which extends 3 to the left and 3 to the right (thus 0:6, 0:6). In the case of the first index ((1,1) whose value i 0), we go -2:4, -2:4.\n",
    "2. We then compute the view of this element  and its neighborhood, which corresponds to the frame (fr) that needs to be multiplied by the filter (w).\n",
    "3. Next we multiply fr and w element by element\n",
    "4. finally we sum"
   ]
  },
  {
   "cell_type": "code",
   "execution_count": 28,
   "metadata": {},
   "outputs": [
    {
     "data": {
      "text/plain": [
       "convolve2D (generic function with 1 method)"
      ]
     },
     "execution_count": 28,
     "metadata": {},
     "output_type": "execute_result"
    }
   ],
   "source": [
    "function convolve2D(I, padf, filter) \n",
    "    # I rather than range, we will apply this function index by index\n",
    "    frame = filter_frame(I, size(filter, 1))\n",
    "    d  = @inbounds SMatrix{size(filter)...}(view(padf, frame...))\n",
    "    sum(d .* filter)  # returns the view corresponding to index I\n",
    "end"
   ]
  },
  {
   "cell_type": "markdown",
   "metadata": {},
   "source": [
    "## Application"
   ]
  },
  {
   "cell_type": "markdown",
   "metadata": {},
   "source": [
    "### Gaussian Kernel"
   ]
  },
  {
   "cell_type": "markdown",
   "metadata": {},
   "source": [
    "Gaussian Kernel from ImageFilter"
   ]
  },
  {
   "cell_type": "code",
   "execution_count": 29,
   "metadata": {},
   "outputs": [
    {
     "name": "stdout",
     "output_type": "stream",
     "text": [
      "  0.000015 seconds (6 allocations: 832 bytes)\n"
     ]
    },
    {
     "data": {
      "text/plain": [
       "5×5 OffsetArray(::Array{Float64,2}, -2:2, -2:2) with eltype Float64 with indices -2:2×-2:2:\n",
       " 0.00296902  0.0133062  0.0219382  0.0133062  0.00296902\n",
       " 0.0133062   0.0596343  0.0983203  0.0596343  0.0133062\n",
       " 0.0219382   0.0983203  0.162103   0.0983203  0.0219382\n",
       " 0.0133062   0.0596343  0.0983203  0.0596343  0.0133062\n",
       " 0.00296902  0.0133062  0.0219382  0.0133062  0.00296902"
      ]
     },
     "execution_count": 29,
     "metadata": {},
     "output_type": "execute_result"
    }
   ],
   "source": [
    "@time kg1 = Kernel.gaussian(1)"
   ]
  },
  {
   "cell_type": "markdown",
   "metadata": {},
   "source": [
    "And from `gaussian_filter`defined above"
   ]
  },
  {
   "cell_type": "code",
   "execution_count": 30,
   "metadata": {},
   "outputs": [
    {
     "name": "stdout",
     "output_type": "stream",
     "text": [
      "  0.000023 seconds (27 allocations: 2.359 KiB)\n"
     ]
    },
    {
     "data": {
      "text/plain": [
       "5×5 SArray{Tuple{5,5},Float64,2,25} with indices SOneTo(5)×SOneTo(5):\n",
       " 0.00296902  0.0133062  0.0219382  0.0133062  0.00296902\n",
       " 0.0133062   0.0596343  0.0983203  0.0596343  0.0133062\n",
       " 0.0219382   0.0983203  0.162103   0.0983203  0.0219382\n",
       " 0.0133062   0.0596343  0.0983203  0.0596343  0.0133062\n",
       " 0.00296902  0.0133062  0.0219382  0.0133062  0.00296902"
      ]
     },
     "execution_count": 30,
     "metadata": {},
     "output_type": "execute_result"
    }
   ],
   "source": [
    "@time gf = gaussian_filter(1.)"
   ]
  },
  {
   "cell_type": "markdown",
   "metadata": {},
   "source": [
    "Both functions yield identical results but the function from Kernel is faster"
   ]
  },
  {
   "cell_type": "markdown",
   "metadata": {},
   "source": [
    "### Convolution"
   ]
  },
  {
   "cell_type": "markdown",
   "metadata": {},
   "source": [
    "Define filter"
   ]
  },
  {
   "cell_type": "code",
   "execution_count": 286,
   "metadata": {},
   "outputs": [
    {
     "data": {
      "text/plain": [
       "3×3 Array{Float64,2}:\n",
       " 1.0  2.0  3.0\n",
       " 4.0  5.0  6.0\n",
       " 7.0  8.0  9.0"
      ]
     },
     "execution_count": 286,
     "metadata": {},
     "output_type": "execute_result"
    }
   ],
   "source": [
    "w = collect(transpose(Float64.(reshape(1:9, 3, 3))))"
   ]
  },
  {
   "cell_type": "markdown",
   "metadata": {},
   "source": [
    "Define \"unit function\""
   ]
  },
  {
   "cell_type": "code",
   "execution_count": 32,
   "metadata": {},
   "outputs": [],
   "source": [
    "fxy = zeros(eltype(0.), (5,5))\n",
    "fxy[3,3] = 1;"
   ]
  },
  {
   "cell_type": "code",
   "execution_count": 33,
   "metadata": {},
   "outputs": [
    {
     "data": {
      "text/plain": [
       "5×5 Array{Float64,2}:\n",
       " 0.0  0.0  0.0  0.0  0.0\n",
       " 0.0  0.0  0.0  0.0  0.0\n",
       " 0.0  0.0  1.0  0.0  0.0\n",
       " 0.0  0.0  0.0  0.0  0.0\n",
       " 0.0  0.0  0.0  0.0  0.0"
      ]
     },
     "execution_count": 33,
     "metadata": {},
     "output_type": "execute_result"
    }
   ],
   "source": [
    "fxy"
   ]
  },
  {
   "cell_type": "markdown",
   "metadata": {},
   "source": [
    "Define padded function and ranges"
   ]
  },
  {
   "cell_type": "code",
   "execution_count": 34,
   "metadata": {},
   "outputs": [],
   "source": [
    "fxyp, range = pad(fxy, size(w,1)-1);"
   ]
  },
  {
   "cell_type": "code",
   "execution_count": 35,
   "metadata": {},
   "outputs": [
    {
     "data": {
      "text/plain": [
       "9×9 OffsetArray(::Array{Float64,2}, -1:7, -1:7) with eltype Float64 with indices -1:7×-1:7:\n",
       " 0.0  0.0  0.0  0.0  0.0  0.0  0.0  0.0  0.0\n",
       " 0.0  0.0  0.0  0.0  0.0  0.0  0.0  0.0  0.0\n",
       " 0.0  0.0  0.0  0.0  0.0  0.0  0.0  0.0  0.0\n",
       " 0.0  0.0  0.0  0.0  0.0  0.0  0.0  0.0  0.0\n",
       " 0.0  0.0  0.0  0.0  1.0  0.0  0.0  0.0  0.0\n",
       " 0.0  0.0  0.0  0.0  0.0  0.0  0.0  0.0  0.0\n",
       " 0.0  0.0  0.0  0.0  0.0  0.0  0.0  0.0  0.0\n",
       " 0.0  0.0  0.0  0.0  0.0  0.0  0.0  0.0  0.0\n",
       " 0.0  0.0  0.0  0.0  0.0  0.0  0.0  0.0  0.0"
      ]
     },
     "execution_count": 35,
     "metadata": {},
     "output_type": "execute_result"
    }
   ],
   "source": [
    "fxyp"
   ]
  },
  {
   "cell_type": "code",
   "execution_count": 36,
   "metadata": {},
   "outputs": [
    {
     "data": {
      "text/plain": [
       "5×5 Array{CartesianIndex{2},2}:\n",
       " CartesianIndex(1, 1)  CartesianIndex(1, 2)  …  CartesianIndex(1, 5)\n",
       " CartesianIndex(2, 1)  CartesianIndex(2, 2)     CartesianIndex(2, 5)\n",
       " CartesianIndex(3, 1)  CartesianIndex(3, 2)     CartesianIndex(3, 5)\n",
       " CartesianIndex(4, 1)  CartesianIndex(4, 2)     CartesianIndex(4, 5)\n",
       " CartesianIndex(5, 1)  CartesianIndex(5, 2)     CartesianIndex(5, 5)"
      ]
     },
     "execution_count": 36,
     "metadata": {},
     "output_type": "execute_result"
    }
   ],
   "source": [
    "range"
   ]
  },
  {
   "cell_type": "markdown",
   "metadata": {},
   "source": [
    "Correlation"
   ]
  },
  {
   "cell_type": "code",
   "execution_count": 38,
   "metadata": {},
   "outputs": [],
   "source": [
    "fcor = similar(fxy);\n",
    "fcor .= convolve2D.(range, (fxyp,), (w,));"
   ]
  },
  {
   "cell_type": "code",
   "execution_count": 39,
   "metadata": {},
   "outputs": [
    {
     "data": {
      "text/plain": [
       "5×5 Array{Float64,2}:\n",
       " 0.0  0.0  0.0  0.0  0.0\n",
       " 0.0  9.0  8.0  7.0  0.0\n",
       " 0.0  6.0  5.0  4.0  0.0\n",
       " 0.0  3.0  2.0  1.0  0.0\n",
       " 0.0  0.0  0.0  0.0  0.0"
      ]
     },
     "execution_count": 39,
     "metadata": {},
     "output_type": "execute_result"
    }
   ],
   "source": [
    "fcor"
   ]
  },
  {
   "cell_type": "markdown",
   "metadata": {},
   "source": [
    "Convolution"
   ]
  },
  {
   "cell_type": "code",
   "execution_count": 153,
   "metadata": {},
   "outputs": [
    {
     "data": {
      "text/plain": [
       "5×5 Array{CartesianIndex{2},2}:\n",
       " CartesianIndex(1, 1)  CartesianIndex(1, 2)  …  CartesianIndex(1, 5)\n",
       " CartesianIndex(2, 1)  CartesianIndex(2, 2)     CartesianIndex(2, 5)\n",
       " CartesianIndex(3, 1)  CartesianIndex(3, 2)     CartesianIndex(3, 5)\n",
       " CartesianIndex(4, 1)  CartesianIndex(4, 2)     CartesianIndex(4, 5)\n",
       " CartesianIndex(5, 1)  CartesianIndex(5, 2)     CartesianIndex(5, 5)"
      ]
     },
     "execution_count": 153,
     "metadata": {},
     "output_type": "execute_result"
    }
   ],
   "source": [
    "range"
   ]
  },
  {
   "cell_type": "code",
   "execution_count": null,
   "metadata": {},
   "outputs": [],
   "source": []
  },
  {
   "cell_type": "code",
   "execution_count": 40,
   "metadata": {},
   "outputs": [],
   "source": [
    "fcon = similar(fxy);\n",
    "fcon .= convolve2D.(range, (fxyp,), (flip2d(w),));"
   ]
  },
  {
   "cell_type": "code",
   "execution_count": 41,
   "metadata": {},
   "outputs": [
    {
     "data": {
      "text/plain": [
       "5×5 Array{Float64,2}:\n",
       " 0.0  0.0  0.0  0.0  0.0\n",
       " 0.0  1.0  2.0  3.0  0.0\n",
       " 0.0  4.0  5.0  6.0  0.0\n",
       " 0.0  7.0  8.0  9.0  0.0\n",
       " 0.0  0.0  0.0  0.0  0.0"
      ]
     },
     "execution_count": 41,
     "metadata": {},
     "output_type": "execute_result"
    }
   ],
   "source": [
    "fcon"
   ]
  },
  {
   "cell_type": "markdown",
   "metadata": {},
   "source": [
    "### Convolution using ImageFilter"
   ]
  },
  {
   "cell_type": "code",
   "execution_count": 288,
   "metadata": {},
   "outputs": [
    {
     "name": "stdout",
     "output_type": "stream",
     "text": [
      "  1.458668 seconds (2.77 M allocations: 135.874 MiB, 2.40% gc time)\n"
     ]
    },
    {
     "data": {
      "text/plain": [
       "5×5 Array{Float64,2}:\n",
       " 0.0  0.0  0.0  0.0  0.0\n",
       " 0.0  1.0  2.0  3.0  0.0\n",
       " 0.0  4.0  5.0  6.0  0.0\n",
       " 0.0  7.0  8.0  9.0  0.0\n",
       " 0.0  0.0  0.0  0.0  0.0"
      ]
     },
     "execution_count": 288,
     "metadata": {},
     "output_type": "execute_result"
    }
   ],
   "source": [
    "@time ifcon = imfilter(fxy, reflect(centered(w)), Fill(0))"
   ]
  },
  {
   "cell_type": "markdown",
   "metadata": {},
   "source": [
    "#### Identical results!"
   ]
  },
  {
   "cell_type": "markdown",
   "metadata": {},
   "source": [
    "### Timing"
   ]
  },
  {
   "cell_type": "code",
   "execution_count": 292,
   "metadata": {},
   "outputs": [
    {
     "name": "stdout",
     "output_type": "stream",
     "text": [
      "  0.000038 seconds (25 allocations: 4.125 KiB)\n"
     ]
    },
    {
     "data": {
      "text/plain": [
       "5×5 Array{Float64,2}:\n",
       " 0.0  0.0  0.0  0.0  0.0\n",
       " 0.0  1.0  2.0  3.0  0.0\n",
       " 0.0  4.0  5.0  6.0  0.0\n",
       " 0.0  7.0  8.0  9.0  0.0\n",
       " 0.0  0.0  0.0  0.0  0.0"
      ]
     },
     "execution_count": 292,
     "metadata": {},
     "output_type": "execute_result"
    }
   ],
   "source": [
    "@time ifcon = imfilter(fxy, reflect(centered(w)), Fill(0))"
   ]
  },
  {
   "cell_type": "code",
   "execution_count": 293,
   "metadata": {},
   "outputs": [
    {
     "name": "stdout",
     "output_type": "stream",
     "text": [
      "  0.000094 seconds (723 allocations: 44.953 KiB)\n"
     ]
    },
    {
     "data": {
      "text/plain": [
       "5×5 Array{Float64,2}:\n",
       " 0.0  0.0  0.0  0.0  0.0\n",
       " 0.0  1.0  2.0  3.0  0.0\n",
       " 0.0  4.0  5.0  6.0  0.0\n",
       " 0.0  7.0  8.0  9.0  0.0\n",
       " 0.0  0.0  0.0  0.0  0.0"
      ]
     },
     "execution_count": 293,
     "metadata": {},
     "output_type": "execute_result"
    }
   ],
   "source": [
    "@time fcon .= convolve2D.(range, (fxyp,), (flip2d(w),))"
   ]
  },
  {
   "cell_type": "markdown",
   "metadata": {},
   "source": [
    "## Reading Lena"
   ]
  },
  {
   "cell_type": "code",
   "execution_count": 237,
   "metadata": {},
   "outputs": [
    {
     "data": {
      "text/plain": [
       "\"/Users/jj/JuliaProjects/JImages/data\""
      ]
     },
     "execution_count": 237,
     "metadata": {},
     "output_type": "execute_result"
    }
   ],
   "source": [
    "datadir"
   ]
  },
  {
   "cell_type": "code",
   "execution_count": 238,
   "metadata": {},
   "outputs": [
    {
     "name": "stdout",
     "output_type": "stream",
     "text": [
      "path to Lena is /Users/jj/JuliaProjects/JImages/data/lena.h5\n"
     ]
    }
   ],
   "source": [
    "path = string(datadir, \"/\", \"lena.h5\")\n",
    "println(\"path to Lena is $path\")\n",
    "lena = load_h5(path, \"lena\");"
   ]
  },
  {
   "cell_type": "code",
   "execution_count": 239,
   "metadata": {},
   "outputs": [
    {
     "data": {
      "image/png": "[encoded data removed]",
      "text/plain": [
       "512×512 Array{Gray{Float64},2} with eltype Gray{Float64}:\n",
       " Gray{Float64}(0.635294)  Gray{Float64}(0.635294)  …  Gray{Float64}(0.501961)\n",
       " Gray{Float64}(0.635294)  Gray{Float64}(0.635294)     Gray{Float64}(0.501961)\n",
       " Gray{Float64}(0.635294)  Gray{Float64}(0.635294)     Gray{Float64}(0.501961)\n",
       " Gray{Float64}(0.635294)  Gray{Float64}(0.635294)     Gray{Float64}(0.501961)\n",
       " Gray{Float64}(0.635294)  Gray{Float64}(0.635294)     Gray{Float64}(0.501961)\n",
       " Gray{Float64}(0.643137)  Gray{Float64}(0.643137)  …  Gray{Float64}(0.301961)\n",
       " Gray{Float64}(0.627451)  Gray{Float64}(0.627451)     Gray{Float64}(0.227451)\n",
       " Gray{Float64}(0.623529)  Gray{Float64}(0.623529)     Gray{Float64}(0.184314)\n",
       " Gray{Float64}(0.607843)  Gray{Float64}(0.607843)     Gray{Float64}(0.192157)\n",
       " Gray{Float64}(0.607843)  Gray{Float64}(0.607843)     Gray{Float64}(0.172549)\n",
       " Gray{Float64}(0.611765)  Gray{Float64}(0.611765)  …  Gray{Float64}(0.2)\n",
       " Gray{Float64}(0.611765)  Gray{Float64}(0.611765)     Gray{Float64}(0.188235)\n",
       " Gray{Float64}(0.619608)  Gray{Float64}(0.619608)     Gray{Float64}(0.196078)\n",
       " ⋮                                                 ⋱  \n",
       " Gray{Float64}(0.203922)  Gray{Float64}(0.203922)  …  Gray{Float64}(0.2)\n",
       " Gray{Float64}(0.196078)  Gray{Float64}(0.196078)     Gray{Float64}(0.25098)\n",
       " Gray{Float64}(0.188235)  Gray{Float64}(0.188235)     Gray{Float64}(0.321569)\n",
       " Gray{Float64}(0.192157)  Gray{Float64}(0.192157)     Gray{Float64}(0.360784)\n",
       " Gray{Float64}(0.188235)  Gray{Float64}(0.188235)     Gray{Float64}(0.337255)\n",
       " Gray{Float64}(0.184314)  Gray{Float64}(0.184314)  …  Gray{Float64}(0.368627)\n",
       " Gray{Float64}(0.188235)  Gray{Float64}(0.188235)     Gray{Float64}(0.372549)\n",
       " Gray{Float64}(0.211765)  Gray{Float64}(0.211765)     Gray{Float64}(0.352941)\n",
       " Gray{Float64}(0.180392)  Gray{Float64}(0.180392)     Gray{Float64}(0.376471)\n",
       " Gray{Float64}(0.168627)  Gray{Float64}(0.168627)     Gray{Float64}(0.384314)\n",
       " Gray{Float64}(0.172549)  Gray{Float64}(0.172549)  …  Gray{Float64}(0.423529)\n",
       " Gray{Float64}(0.172549)  Gray{Float64}(0.172549)     Gray{Float64}(0.423529)"
      ]
     },
     "execution_count": 239,
     "metadata": {},
     "output_type": "execute_result"
    }
   ],
   "source": [
    "Gray.(lena)"
   ]
  },
  {
   "cell_type": "markdown",
   "metadata": {},
   "source": [
    "### Convolving lena"
   ]
  },
  {
   "cell_type": "markdown",
   "metadata": {},
   "source": [
    "With img filter"
   ]
  },
  {
   "cell_type": "code",
   "execution_count": 242,
   "metadata": {},
   "outputs": [
    {
     "name": "stdout",
     "output_type": "stream",
     "text": [
      "  0.002893 seconds (148 allocations: 4.175 MiB)\n"
     ]
    }
   ],
   "source": [
    "@time lena_g1 = imfilter(lena, reflect(centered(kg1)), Fill(0));"
   ]
  },
  {
   "cell_type": "markdown",
   "metadata": {},
   "source": [
    "With convolve2D"
   ]
  },
  {
   "cell_type": "code",
   "execution_count": 243,
   "metadata": {},
   "outputs": [],
   "source": [
    "lenap, range = pad(lena, size(gf,1)-1);"
   ]
  },
  {
   "cell_type": "code",
   "execution_count": 244,
   "metadata": {},
   "outputs": [],
   "source": [
    "lena_c = similar(lena);"
   ]
  },
  {
   "cell_type": "code",
   "execution_count": 245,
   "metadata": {},
   "outputs": [
    {
     "data": {
      "text/plain": [
       "5×5 Array{Float64,2}:\n",
       " 0.00296902  0.0133062  0.0219382  0.0133062  0.00296902\n",
       " 0.0133062   0.0596343  0.0983203  0.0596343  0.0133062\n",
       " 0.0219382   0.0983203  0.162103   0.0983203  0.0219382\n",
       " 0.0133062   0.0596343  0.0983203  0.0596343  0.0133062\n",
       " 0.00296902  0.0133062  0.0219382  0.0133062  0.00296902"
      ]
     },
     "execution_count": 245,
     "metadata": {},
     "output_type": "execute_result"
    }
   ],
   "source": [
    "w = flip2d(collect(gf))"
   ]
  },
  {
   "cell_type": "code",
   "execution_count": 248,
   "metadata": {},
   "outputs": [
    {
     "name": "stdout",
     "output_type": "stream",
     "text": [
      "  0.770174 seconds (7.08 M allocations: 520.000 MiB, 7.87% gc time)\n"
     ]
    }
   ],
   "source": [
    "@time lena_c .= convolve2D.(range, (lenap,), (w,));"
   ]
  },
  {
   "cell_type": "code",
   "execution_count": 249,
   "metadata": {},
   "outputs": [
    {
     "data": {
      "text/plain": [
       "512×512 Array{Float64,2}:\n",
       " 0.31246    0.421111  0.444866  0.443682  …  0.451843  0.397397  0.27131\n",
       " 0.421261   0.567746  0.599772  0.598175     0.609179  0.535774  0.365782\n",
       " 0.445538   0.600464  0.634336  0.632647     0.644285  0.56665   0.386861\n",
       " 0.445768   0.600462  0.633795  0.631916     0.635071  0.556742  0.379225\n",
       " 0.446303   0.600195  0.631689  0.629097     0.584801  0.505096  0.340806\n",
       " 0.445554   0.59846   0.628296  0.625085  …  0.471604  0.396277  0.26383\n",
       " 0.441374   0.593624  0.624591  0.622501     0.340217  0.283241  0.190467\n",
       " 0.435345   0.586502  0.619534  0.619809     0.246178  0.212836  0.149299\n",
       " 0.430061   0.580736  0.616137  0.617964     0.201198  0.183492  0.13383\n",
       " 0.427989   0.578537  0.615031  0.616976     0.187661  0.176202  0.130535\n",
       " 0.428643   0.578968  0.615153  0.617203  …  0.185379  0.17661   0.132206\n",
       " 0.430351   0.580509  0.615488  0.617155     0.184693  0.176699  0.132943\n",
       " 0.432148   0.582388  0.615933  0.616313     0.186469  0.178672  0.134248\n",
       " ⋮                                        ⋱            ⋮         \n",
       " 0.142442   0.19662   0.217356  0.226434  …  0.208041  0.202841  0.153373\n",
       " 0.138726   0.19169   0.212888  0.221849     0.225485  0.228063  0.176922\n",
       " 0.135784   0.188704  0.21135   0.220753     0.245298  0.255188  0.203642\n",
       " 0.134493   0.186654  0.207383  0.214561     0.267995  0.278137  0.222763\n",
       " 0.133318   0.184767  0.203245  0.207542     0.295027  0.298454  0.234424\n",
       " 0.13336    0.184972  0.202882  0.205616  …  0.325134  0.319635  0.245258\n",
       " 0.136053   0.18686   0.202181  0.203967     0.349672  0.335524  0.252261\n",
       " 0.13675    0.185354  0.197397  0.19919      0.367691  0.347898  0.257268\n",
       " 0.130498   0.178226  0.192468  0.196339     0.384255  0.361609  0.265518\n",
       " 0.124188   0.172871  0.191687  0.197407     0.396464  0.374592  0.276394\n",
       " 0.115977   0.163638  0.1844    0.19005   …  0.380989  0.363316  0.27087\n",
       " 0.0863178  0.122408  0.138688  0.142698     0.284288  0.272682  0.204571"
      ]
     },
     "execution_count": 249,
     "metadata": {},
     "output_type": "execute_result"
    }
   ],
   "source": [
    "lena_g1"
   ]
  },
  {
   "cell_type": "code",
   "execution_count": 250,
   "metadata": {},
   "outputs": [
    {
     "data": {
      "text/plain": [
       "512×512 Array{Float64,2}:\n",
       " 0.31246    0.421111  0.444866  0.443682  …  0.451843  0.397397  0.27131\n",
       " 0.421261   0.567746  0.599772  0.598175     0.609179  0.535774  0.365782\n",
       " 0.445538   0.600464  0.634336  0.632647     0.644285  0.56665   0.386861\n",
       " 0.445768   0.600462  0.633795  0.631916     0.635071  0.556742  0.379225\n",
       " 0.446303   0.600195  0.631689  0.629097     0.584801  0.505096  0.340806\n",
       " 0.445554   0.59846   0.628296  0.625085  …  0.471604  0.396277  0.26383\n",
       " 0.441374   0.593624  0.624591  0.622501     0.340217  0.283241  0.190467\n",
       " 0.435345   0.586502  0.619534  0.619809     0.246178  0.212836  0.149299\n",
       " 0.430061   0.580736  0.616137  0.617964     0.201198  0.183492  0.13383\n",
       " 0.427989   0.578537  0.615031  0.616976     0.187661  0.176202  0.130535\n",
       " 0.428643   0.578968  0.615153  0.617203  …  0.185379  0.17661   0.132206\n",
       " 0.430351   0.580509  0.615488  0.617155     0.184693  0.176699  0.132943\n",
       " 0.432148   0.582388  0.615933  0.616313     0.186469  0.178672  0.134248\n",
       " ⋮                                        ⋱            ⋮         \n",
       " 0.142442   0.19662   0.217356  0.226434  …  0.208041  0.202841  0.153373\n",
       " 0.138726   0.19169   0.212888  0.221849     0.225485  0.228063  0.176922\n",
       " 0.135784   0.188704  0.21135   0.220753     0.245298  0.255188  0.203642\n",
       " 0.134493   0.186654  0.207383  0.214561     0.267995  0.278137  0.222763\n",
       " 0.133318   0.184767  0.203245  0.207542     0.295027  0.298454  0.234424\n",
       " 0.13336    0.184972  0.202882  0.205616  …  0.325134  0.319635  0.245258\n",
       " 0.136053   0.18686   0.202181  0.203967     0.349672  0.335524  0.252261\n",
       " 0.13675    0.185354  0.197397  0.19919      0.367691  0.347898  0.257268\n",
       " 0.130498   0.178226  0.192468  0.196339     0.384255  0.361609  0.265518\n",
       " 0.124188   0.172871  0.191687  0.197407     0.396464  0.374592  0.276394\n",
       " 0.115977   0.163638  0.1844    0.19005   …  0.380989  0.363316  0.27087\n",
       " 0.0863178  0.122408  0.138688  0.142698     0.284288  0.272682  0.204571"
      ]
     },
     "execution_count": 250,
     "metadata": {},
     "output_type": "execute_result"
    }
   ],
   "source": [
    "lena_c"
   ]
  },
  {
   "cell_type": "code",
   "execution_count": 251,
   "metadata": {},
   "outputs": [
    {
     "data": {
      "text/plain": [
       "true"
      ]
     },
     "execution_count": 251,
     "metadata": {},
     "output_type": "execute_result"
    }
   ],
   "source": [
    "isapprox(lena_g1, lena_c)"
   ]
  },
  {
   "cell_type": "markdown",
   "metadata": {},
   "source": [
    "#### Same result but much slower! The reason is that imfilter uses fft for large images."
   ]
  },
  {
   "cell_type": "markdown",
   "metadata": {},
   "source": [
    "## An alternative algorithm, using only regular arrays"
   ]
  },
  {
   "cell_type": "markdown",
   "metadata": {},
   "source": [
    "Function pad2 assumes that the filter is squared. \n",
    " - If m = size(filter,1) = size(filter,2), then, pad = m-1 and size of padded image is 2*m in each axis"
   ]
  },
  {
   "cell_type": "code",
   "execution_count": 218,
   "metadata": {},
   "outputs": [
    {
     "data": {
      "text/plain": [
       "pad2 (generic function with 1 method)"
      ]
     },
     "execution_count": 218,
     "metadata": {},
     "output_type": "execute_result"
    }
   ],
   "source": [
    "function pad2(data, pad)\n",
    "    padded_size  = map(s->s+2*pad, size(data))  # in each axis \n",
    "    padded_range = map(s->1:s, padded_size)   \n",
    "    odata        = zeros(eltype(data), padded_size)\n",
    "    m, n = size(data)\n",
    "    i0 = pad + 1\n",
    "    il = pad + m\n",
    "    jl = pad + n\n",
    "    odata[i0:il, i0:jl] = data[1:m, 1:n]\n",
    "    return odata\n",
    "end"
   ]
  },
  {
   "cell_type": "code",
   "execution_count": 219,
   "metadata": {},
   "outputs": [
    {
     "data": {
      "text/plain": [
       "9×9 Array{Float64,2}:\n",
       " 0.0  0.0  0.0  0.0  0.0  0.0  0.0  0.0  0.0\n",
       " 0.0  0.0  0.0  0.0  0.0  0.0  0.0  0.0  0.0\n",
       " 0.0  0.0  0.0  0.0  0.0  0.0  0.0  0.0  0.0\n",
       " 0.0  0.0  0.0  0.0  0.0  0.0  0.0  0.0  0.0\n",
       " 0.0  0.0  0.0  0.0  1.0  0.0  0.0  0.0  0.0\n",
       " 0.0  0.0  0.0  0.0  0.0  0.0  0.0  0.0  0.0\n",
       " 0.0  0.0  0.0  0.0  0.0  0.0  0.0  0.0  0.0\n",
       " 0.0  0.0  0.0  0.0  0.0  0.0  0.0  0.0  0.0\n",
       " 0.0  0.0  0.0  0.0  0.0  0.0  0.0  0.0  0.0"
      ]
     },
     "execution_count": 219,
     "metadata": {},
     "output_type": "execute_result"
    }
   ],
   "source": [
    "fxyp = pad2(fxy, size(w,1)-1)"
   ]
  },
  {
   "cell_type": "markdown",
   "metadata": {},
   "source": [
    "Function `get_frames` computes the succesive frames as the filter is sliding over the function.\n",
    "- Notice, for fxyp (9x9) and w = (3x3) we get (7x7) frames. This corresponds to (9 - border, 9 -border) where border = size_filter -1"
   ]
  },
  {
   "cell_type": "code",
   "execution_count": 283,
   "metadata": {},
   "outputs": [
    {
     "data": {
      "text/plain": [
       "get_frames (generic function with 1 method)"
      ]
     },
     "execution_count": 283,
     "metadata": {},
     "output_type": "execute_result"
    }
   ],
   "source": [
    "function get_frames(A, filter_size)\n",
    "    border = filter_size -1 \n",
    "    ci     = CartesianIndices(A)\n",
    "    m,n    = size(A)\n",
    "    mf     = m - border\n",
    "    nf     = m - border\n",
    "    frm    = [ci[i:i+border, j:j+border] for i in 1:mf for j in 1:nf]\n",
    "    reshape(frm, mf, nf)\n",
    "end\n",
    "    "
   ]
  },
  {
   "cell_type": "code",
   "execution_count": 287,
   "metadata": {},
   "outputs": [
    {
     "data": {
      "text/plain": [
       "3"
      ]
     },
     "execution_count": 287,
     "metadata": {},
     "output_type": "execute_result"
    }
   ],
   "source": [
    "size(w,1)"
   ]
  },
  {
   "cell_type": "code",
   "execution_count": 288,
   "metadata": {},
   "outputs": [
    {
     "data": {
      "text/plain": [
       "7×7 Array{Array{CartesianIndex{2},2},2}:\n",
       " [CartesianIndex(1, 1) CartesianIndex(1, 2) CartesianIndex(1, 3); CartesianIndex(2, 1) CartesianIndex(2, 2) CartesianIndex(2, 3); CartesianIndex(3, 1) CartesianIndex(3, 2) CartesianIndex(3, 3)]  …  [CartesianIndex(7, 1) CartesianIndex(7, 2) CartesianIndex(7, 3); CartesianIndex(8, 1) CartesianIndex(8, 2) CartesianIndex(8, 3); CartesianIndex(9, 1) CartesianIndex(9, 2) CartesianIndex(9, 3)]\n",
       " [CartesianIndex(1, 2) CartesianIndex(1, 3) CartesianIndex(1, 4); CartesianIndex(2, 2) CartesianIndex(2, 3) CartesianIndex(2, 4); CartesianIndex(3, 2) CartesianIndex(3, 3) CartesianIndex(3, 4)]     [CartesianIndex(7, 2) CartesianIndex(7, 3) CartesianIndex(7, 4); CartesianIndex(8, 2) CartesianIndex(8, 3) CartesianIndex(8, 4); CartesianIndex(9, 2) CartesianIndex(9, 3) CartesianIndex(9, 4)]\n",
       " [CartesianIndex(1, 3) CartesianIndex(1, 4) CartesianIndex(1, 5); CartesianIndex(2, 3) CartesianIndex(2, 4) CartesianIndex(2, 5); CartesianIndex(3, 3) CartesianIndex(3, 4) CartesianIndex(3, 5)]     [CartesianIndex(7, 3) CartesianIndex(7, 4) CartesianIndex(7, 5); CartesianIndex(8, 3) CartesianIndex(8, 4) CartesianIndex(8, 5); CartesianIndex(9, 3) CartesianIndex(9, 4) CartesianIndex(9, 5)]\n",
       " [CartesianIndex(1, 4) CartesianIndex(1, 5) CartesianIndex(1, 6); CartesianIndex(2, 4) CartesianIndex(2, 5) CartesianIndex(2, 6); CartesianIndex(3, 4) CartesianIndex(3, 5) CartesianIndex(3, 6)]     [CartesianIndex(7, 4) CartesianIndex(7, 5) CartesianIndex(7, 6); CartesianIndex(8, 4) CartesianIndex(8, 5) CartesianIndex(8, 6); CartesianIndex(9, 4) CartesianIndex(9, 5) CartesianIndex(9, 6)]\n",
       " [CartesianIndex(1, 5) CartesianIndex(1, 6) CartesianIndex(1, 7); CartesianIndex(2, 5) CartesianIndex(2, 6) CartesianIndex(2, 7); CartesianIndex(3, 5) CartesianIndex(3, 6) CartesianIndex(3, 7)]     [CartesianIndex(7, 5) CartesianIndex(7, 6) CartesianIndex(7, 7); CartesianIndex(8, 5) CartesianIndex(8, 6) CartesianIndex(8, 7); CartesianIndex(9, 5) CartesianIndex(9, 6) CartesianIndex(9, 7)]\n",
       " [CartesianIndex(1, 6) CartesianIndex(1, 7) CartesianIndex(1, 8); CartesianIndex(2, 6) CartesianIndex(2, 7) CartesianIndex(2, 8); CartesianIndex(3, 6) CartesianIndex(3, 7) CartesianIndex(3, 8)]  …  [CartesianIndex(7, 6) CartesianIndex(7, 7) CartesianIndex(7, 8); CartesianIndex(8, 6) CartesianIndex(8, 7) CartesianIndex(8, 8); CartesianIndex(9, 6) CartesianIndex(9, 7) CartesianIndex(9, 8)]\n",
       " [CartesianIndex(1, 7) CartesianIndex(1, 8) CartesianIndex(1, 9); CartesianIndex(2, 7) CartesianIndex(2, 8) CartesianIndex(2, 9); CartesianIndex(3, 7) CartesianIndex(3, 8) CartesianIndex(3, 9)]     [CartesianIndex(7, 7) CartesianIndex(7, 8) CartesianIndex(7, 9); CartesianIndex(8, 7) CartesianIndex(8, 8) CartesianIndex(8, 9); CartesianIndex(9, 7) CartesianIndex(9, 8) CartesianIndex(9, 9)]"
      ]
     },
     "execution_count": 288,
     "metadata": {},
     "output_type": "execute_result"
    }
   ],
   "source": [
    "I = get_frames(f2xyp, size(w,1))"
   ]
  },
  {
   "cell_type": "markdown",
   "metadata": {},
   "source": [
    "Function `convolve2G` performs the actual convolution"
   ]
  },
  {
   "cell_type": "code",
   "execution_count": 298,
   "metadata": {},
   "outputs": [
    {
     "data": {
      "text/plain": [
       "convolve2G (generic function with 1 method)"
      ]
     },
     "execution_count": 298,
     "metadata": {},
     "output_type": "execute_result"
    }
   ],
   "source": [
    "function convolve2G(ci, padf, filter) \n",
    "    frame = ntuple(i->ci[1].I[i]:ci[end].I[i], 2)\n",
    "    #println(\"frame = \", frame)\n",
    "    d  = view(padf, frame...)\n",
    "    #println(\"d = \", d)\n",
    "    s = sum(d .* filter)  # returns the view corresponding to index I\n",
    "    #println(\"s =\", s)\n",
    "    return s\n",
    "end"
   ]
  },
  {
   "cell_type": "markdown",
   "metadata": {},
   "source": [
    "### CPU"
   ]
  },
  {
   "cell_type": "code",
   "execution_count": 225,
   "metadata": {},
   "outputs": [
    {
     "data": {
      "text/plain": [
       "5×5 Array{Float64,2}:\n",
       " 0.0  0.0  0.0  0.0  0.0\n",
       " 0.0  0.0  0.0  0.0  0.0\n",
       " 0.0  0.0  1.0  0.0  0.0\n",
       " 0.0  0.0  0.0  0.0  0.0\n",
       " 0.0  0.0  0.0  0.0  0.0"
      ]
     },
     "execution_count": 225,
     "metadata": {},
     "output_type": "execute_result"
    }
   ],
   "source": [
    "fxy"
   ]
  },
  {
   "cell_type": "code",
   "execution_count": 226,
   "metadata": {},
   "outputs": [
    {
     "data": {
      "text/plain": [
       "3×3 Array{Float64,2}:\n",
       " 1.0  2.0  3.0\n",
       " 4.0  5.0  6.0\n",
       " 7.0  8.0  9.0"
      ]
     },
     "execution_count": 226,
     "metadata": {},
     "output_type": "execute_result"
    }
   ],
   "source": [
    "w"
   ]
  },
  {
   "cell_type": "code",
   "execution_count": 227,
   "metadata": {},
   "outputs": [
    {
     "data": {
      "text/plain": [
       "2"
      ]
     },
     "execution_count": 227,
     "metadata": {},
     "output_type": "execute_result"
    }
   ],
   "source": [
    "border = size(w,1) -1"
   ]
  },
  {
   "cell_type": "code",
   "execution_count": 228,
   "metadata": {},
   "outputs": [
    {
     "data": {
      "text/plain": [
       "1"
      ]
     },
     "execution_count": 228,
     "metadata": {},
     "output_type": "execute_result"
    }
   ],
   "source": [
    "hb = border÷2"
   ]
  },
  {
   "cell_type": "code",
   "execution_count": 229,
   "metadata": {},
   "outputs": [
    {
     "data": {
      "text/plain": [
       "(5, 5)"
      ]
     },
     "execution_count": 229,
     "metadata": {},
     "output_type": "execute_result"
    }
   ],
   "source": [
    "sm, sn = size(fxy)"
   ]
  },
  {
   "cell_type": "code",
   "execution_count": 230,
   "metadata": {},
   "outputs": [
    {
     "data": {
      "text/plain": [
       "9×9 Array{Float64,2}:\n",
       " 0.0  0.0  0.0  0.0  0.0  0.0  0.0  0.0  0.0\n",
       " 0.0  0.0  0.0  0.0  0.0  0.0  0.0  0.0  0.0\n",
       " 0.0  0.0  0.0  0.0  0.0  0.0  0.0  0.0  0.0\n",
       " 0.0  0.0  0.0  0.0  0.0  0.0  0.0  0.0  0.0\n",
       " 0.0  0.0  0.0  0.0  1.0  0.0  0.0  0.0  0.0\n",
       " 0.0  0.0  0.0  0.0  0.0  0.0  0.0  0.0  0.0\n",
       " 0.0  0.0  0.0  0.0  0.0  0.0  0.0  0.0  0.0\n",
       " 0.0  0.0  0.0  0.0  0.0  0.0  0.0  0.0  0.0\n",
       " 0.0  0.0  0.0  0.0  0.0  0.0  0.0  0.0  0.0"
      ]
     },
     "execution_count": 230,
     "metadata": {},
     "output_type": "execute_result"
    }
   ],
   "source": [
    "fxyp = pad2(fxy, border)"
   ]
  },
  {
   "cell_type": "code",
   "execution_count": 231,
   "metadata": {},
   "outputs": [
    {
     "data": {
      "text/plain": [
       "7×7 Array{Float64,2}:\n",
       " 0.0  0.0  0.0  0.0  0.0  0.0  0.0\n",
       " 0.0  0.0  0.0  0.0  0.0  0.0  0.0\n",
       " 0.0  0.0  0.0  0.0  0.0  0.0  0.0\n",
       " 0.0  0.0  0.0  0.0  0.0  0.0  0.0\n",
       " 0.0  0.0  0.0  0.0  0.0  0.0  0.0\n",
       " 0.0  0.0  0.0  0.0  0.0  0.0  0.0\n",
       " 0.0  0.0  0.0  0.0  0.0  0.0  0.0"
      ]
     },
     "execution_count": 231,
     "metadata": {},
     "output_type": "execute_result"
    }
   ],
   "source": [
    "fconvpt = zeros(size(I))"
   ]
  },
  {
   "cell_type": "code",
   "execution_count": 232,
   "metadata": {},
   "outputs": [
    {
     "data": {
      "text/plain": [
       "7×7 Array{Float64,2}:\n",
       " 0.0  0.0  0.0  0.0  0.0  0.0  0.0\n",
       " 0.0  0.0  0.0  0.0  0.0  0.0  0.0\n",
       " 0.0  0.0  1.0  4.0  7.0  0.0  0.0\n",
       " 0.0  0.0  2.0  5.0  8.0  0.0  0.0\n",
       " 0.0  0.0  3.0  6.0  9.0  0.0  0.0\n",
       " 0.0  0.0  0.0  0.0  0.0  0.0  0.0\n",
       " 0.0  0.0  0.0  0.0  0.0  0.0  0.0"
      ]
     },
     "execution_count": 232,
     "metadata": {},
     "output_type": "execute_result"
    }
   ],
   "source": [
    "fconvpt .= convolve2G.(I, (fxyp,), (flip2d(w),))"
   ]
  },
  {
   "cell_type": "code",
   "execution_count": 233,
   "metadata": {},
   "outputs": [
    {
     "data": {
      "text/plain": [
       "5×5 Array{Float64,2}:\n",
       " 0.0  0.0  0.0  0.0  0.0\n",
       " 0.0  1.0  2.0  3.0  0.0\n",
       " 0.0  4.0  5.0  6.0  0.0\n",
       " 0.0  7.0  8.0  9.0  0.0\n",
       " 0.0  0.0  0.0  0.0  0.0"
      ]
     },
     "execution_count": 233,
     "metadata": {},
     "output_type": "execute_result"
    }
   ],
   "source": [
    "fconv = collect(transpose(fconvpt[1+hb:sm+hb, 1+hb:sn+hb]))"
   ]
  },
  {
   "cell_type": "code",
   "execution_count": 235,
   "metadata": {},
   "outputs": [
    {
     "name": "stdout",
     "output_type": "stream",
     "text": [
      "  0.000037 seconds (97 allocations: 9.203 KiB)\n"
     ]
    },
    {
     "data": {
      "text/plain": [
       "7×7 Array{Float64,2}:\n",
       " 0.0  0.0  0.0  0.0  0.0  0.0  0.0\n",
       " 0.0  0.0  0.0  0.0  0.0  0.0  0.0\n",
       " 0.0  0.0  1.0  4.0  7.0  0.0  0.0\n",
       " 0.0  0.0  2.0  5.0  8.0  0.0  0.0\n",
       " 0.0  0.0  3.0  6.0  9.0  0.0  0.0\n",
       " 0.0  0.0  0.0  0.0  0.0  0.0  0.0\n",
       " 0.0  0.0  0.0  0.0  0.0  0.0  0.0"
      ]
     },
     "execution_count": 235,
     "metadata": {},
     "output_type": "execute_result"
    }
   ],
   "source": [
    "@time fconvpt .= convolve2G.(I, (fxyp,), (flip2d(w),))"
   ]
  },
  {
   "cell_type": "markdown",
   "metadata": {},
   "source": [
    "### Apply to LENA"
   ]
  },
  {
   "cell_type": "code",
   "execution_count": 252,
   "metadata": {},
   "outputs": [
    {
     "data": {
      "text/plain": [
       "520×520 Array{Float64,2}:\n",
       " 0.0  0.0  0.0  0.0  0.0       0.0       …  0.0       0.0  0.0  0.0  0.0\n",
       " 0.0  0.0  0.0  0.0  0.0       0.0          0.0       0.0  0.0  0.0  0.0\n",
       " 0.0  0.0  0.0  0.0  0.0       0.0          0.0       0.0  0.0  0.0  0.0\n",
       " 0.0  0.0  0.0  0.0  0.0       0.0          0.0       0.0  0.0  0.0  0.0\n",
       " 0.0  0.0  0.0  0.0  0.635294  0.635294     0.501961  0.0  0.0  0.0  0.0\n",
       " 0.0  0.0  0.0  0.0  0.635294  0.635294  …  0.501961  0.0  0.0  0.0  0.0\n",
       " 0.0  0.0  0.0  0.0  0.635294  0.635294     0.501961  0.0  0.0  0.0  0.0\n",
       " 0.0  0.0  0.0  0.0  0.635294  0.635294     0.501961  0.0  0.0  0.0  0.0\n",
       " 0.0  0.0  0.0  0.0  0.635294  0.635294     0.501961  0.0  0.0  0.0  0.0\n",
       " 0.0  0.0  0.0  0.0  0.643137  0.643137     0.301961  0.0  0.0  0.0  0.0\n",
       " 0.0  0.0  0.0  0.0  0.627451  0.627451  …  0.227451  0.0  0.0  0.0  0.0\n",
       " 0.0  0.0  0.0  0.0  0.623529  0.623529     0.184314  0.0  0.0  0.0  0.0\n",
       " 0.0  0.0  0.0  0.0  0.607843  0.607843     0.192157  0.0  0.0  0.0  0.0\n",
       " ⋮                             ⋮         ⋱  ⋮                        \n",
       " 0.0  0.0  0.0  0.0  0.188235  0.188235     0.337255  0.0  0.0  0.0  0.0\n",
       " 0.0  0.0  0.0  0.0  0.184314  0.184314     0.368627  0.0  0.0  0.0  0.0\n",
       " 0.0  0.0  0.0  0.0  0.188235  0.188235  …  0.372549  0.0  0.0  0.0  0.0\n",
       " 0.0  0.0  0.0  0.0  0.211765  0.211765     0.352941  0.0  0.0  0.0  0.0\n",
       " 0.0  0.0  0.0  0.0  0.180392  0.180392     0.376471  0.0  0.0  0.0  0.0\n",
       " 0.0  0.0  0.0  0.0  0.168627  0.168627     0.384314  0.0  0.0  0.0  0.0\n",
       " 0.0  0.0  0.0  0.0  0.172549  0.172549     0.423529  0.0  0.0  0.0  0.0\n",
       " 0.0  0.0  0.0  0.0  0.172549  0.172549  …  0.423529  0.0  0.0  0.0  0.0\n",
       " 0.0  0.0  0.0  0.0  0.0       0.0          0.0       0.0  0.0  0.0  0.0\n",
       " 0.0  0.0  0.0  0.0  0.0       0.0          0.0       0.0  0.0  0.0  0.0\n",
       " 0.0  0.0  0.0  0.0  0.0       0.0          0.0       0.0  0.0  0.0  0.0\n",
       " 0.0  0.0  0.0  0.0  0.0       0.0          0.0       0.0  0.0  0.0  0.0"
      ]
     },
     "execution_count": 252,
     "metadata": {},
     "output_type": "execute_result"
    }
   ],
   "source": [
    "lenap2 = pad2(lena, size(gf,1)-1)"
   ]
  },
  {
   "cell_type": "code",
   "execution_count": 254,
   "metadata": {},
   "outputs": [
    {
     "data": {
      "text/plain": [
       "true"
      ]
     },
     "execution_count": 254,
     "metadata": {},
     "output_type": "execute_result"
    }
   ],
   "source": [
    "isapprox(collect(lenap), lenap2)"
   ]
  },
  {
   "cell_type": "code",
   "execution_count": 289,
   "metadata": {},
   "outputs": [
    {
     "data": {
      "text/plain": [
       "5×5 Array{Float64,2}:\n",
       " 0.00296902  0.0133062  0.0219382  0.0133062  0.00296902\n",
       " 0.0133062   0.0596343  0.0983203  0.0596343  0.0133062\n",
       " 0.0219382   0.0983203  0.162103   0.0983203  0.0219382\n",
       " 0.0133062   0.0596343  0.0983203  0.0596343  0.0133062\n",
       " 0.00296902  0.0133062  0.0219382  0.0133062  0.00296902"
      ]
     },
     "execution_count": 289,
     "metadata": {},
     "output_type": "execute_result"
    }
   ],
   "source": [
    "wf = flip2d(collect(gf))"
   ]
  },
  {
   "cell_type": "code",
   "execution_count": 291,
   "metadata": {},
   "outputs": [],
   "source": [
    "I = get_frames(lenap2, size(wf,1));"
   ]
  },
  {
   "cell_type": "code",
   "execution_count": 292,
   "metadata": {},
   "outputs": [
    {
     "data": {
      "text/plain": [
       "(516, 516)"
      ]
     },
     "execution_count": 292,
     "metadata": {},
     "output_type": "execute_result"
    }
   ],
   "source": [
    "size(I)"
   ]
  },
  {
   "cell_type": "code",
   "execution_count": 293,
   "metadata": {},
   "outputs": [
    {
     "data": {
      "text/plain": [
       "5×5 Array{CartesianIndex{2},2}:\n",
       " CartesianIndex(1, 1)  CartesianIndex(1, 2)  …  CartesianIndex(1, 5)\n",
       " CartesianIndex(2, 1)  CartesianIndex(2, 2)     CartesianIndex(2, 5)\n",
       " CartesianIndex(3, 1)  CartesianIndex(3, 2)     CartesianIndex(3, 5)\n",
       " CartesianIndex(4, 1)  CartesianIndex(4, 2)     CartesianIndex(4, 5)\n",
       " CartesianIndex(5, 1)  CartesianIndex(5, 2)     CartesianIndex(5, 5)"
      ]
     },
     "execution_count": 293,
     "metadata": {},
     "output_type": "execute_result"
    }
   ],
   "source": [
    "II = I[1]"
   ]
  },
  {
   "cell_type": "code",
   "execution_count": 295,
   "metadata": {},
   "outputs": [
    {
     "data": {
      "text/plain": [
       "(1:5, 1:5)"
      ]
     },
     "execution_count": 295,
     "metadata": {},
     "output_type": "execute_result"
    }
   ],
   "source": [
    "fr = ntuple(i->II[1].I[i]:II[end].I[i], 2)"
   ]
  },
  {
   "cell_type": "code",
   "execution_count": 303,
   "metadata": {},
   "outputs": [
    {
     "data": {
      "text/plain": [
       "4"
      ]
     },
     "execution_count": 303,
     "metadata": {},
     "output_type": "execute_result"
    }
   ],
   "source": [
    "border = size(wf,1) -1"
   ]
  },
  {
   "cell_type": "code",
   "execution_count": 304,
   "metadata": {},
   "outputs": [
    {
     "data": {
      "text/plain": [
       "2"
      ]
     },
     "execution_count": 304,
     "metadata": {},
     "output_type": "execute_result"
    }
   ],
   "source": [
    "hb = border÷2"
   ]
  },
  {
   "cell_type": "code",
   "execution_count": 305,
   "metadata": {},
   "outputs": [
    {
     "data": {
      "text/plain": [
       "(512, 512)"
      ]
     },
     "execution_count": 305,
     "metadata": {},
     "output_type": "execute_result"
    }
   ],
   "source": [
    "sm, sn = size(lena)"
   ]
  },
  {
   "cell_type": "code",
   "execution_count": 296,
   "metadata": {},
   "outputs": [],
   "source": [
    "lconvpt = zeros(size(I));"
   ]
  },
  {
   "cell_type": "code",
   "execution_count": 299,
   "metadata": {},
   "outputs": [
    {
     "data": {
      "text/plain": [
       "516×516 Array{Float64,2}:\n",
       " 0.0018862   0.0103396   0.0242768  …  0.00658205  0.00280827  0.000512301\n",
       " 0.0103396   0.0566782   0.133078      0.0360808   0.0153941   0.00280827\n",
       " 0.0242768   0.133078    0.31246       0.0863178   0.0368467   0.00672177\n",
       " 0.0327185   0.179353    0.421111      0.122408    0.0523236   0.00954516\n",
       " 0.0345642   0.18947     0.444866      0.138688    0.0593668   0.01083\n",
       " 0.0344721   0.188965    0.443682   …  0.142698    0.0610382   0.0111349\n",
       " 0.0343149   0.188104    0.441658      0.14108     0.0602001   0.010982\n",
       " 0.0342151   0.187556    0.440374      0.137106    0.0584237   0.010658\n",
       " 0.0344242   0.188703    0.443065      0.137886    0.0587605   0.0107194\n",
       " 0.0346692   0.190046    0.446218      0.143636    0.061199    0.0111643\n",
       " 0.0347817   0.190663    0.447667   …  0.147222    0.0626563   0.0114301\n",
       " 0.0346519   0.189951    0.445996      0.141617    0.0602463   0.0109905\n",
       " 0.0344132   0.188643    0.442924      0.135636    0.0576684   0.0105202\n",
       " ⋮                                  ⋱                          ⋮\n",
       " 0.0257758   0.141295    0.331754      0.210257    0.0905177   0.0165127\n",
       " 0.0273792   0.150084    0.352391   …  0.228077    0.0982372   0.017921\n",
       " 0.0302539   0.165842    0.38939       0.24482     0.105429    0.019233\n",
       " 0.0334998   0.183636    0.431168      0.256076    0.11002     0.0200705\n",
       " 0.0354797   0.194489    0.45665       0.267191    0.114477    0.0208836\n",
       " 0.0362037   0.198458    0.465969      0.276869    0.118378    0.0215952\n",
       " 0.0362139   0.198513    0.4661     …  0.280834    0.119835    0.021861\n",
       " 0.0351062   0.192441    0.451843      0.284288    0.12128     0.0221245\n",
       " 0.030876    0.169253    0.397397      0.272682    0.116541    0.0212601\n",
       " 0.0210796   0.115552    0.27131       0.204571    0.0876051   0.0159814\n",
       " 0.00848389  0.0465061   0.109194      0.0876889   0.037594    0.00685811\n",
       " 0.00149033  0.00816953  0.0191817  …  0.0160681   0.00689304  0.00125747"
      ]
     },
     "execution_count": 299,
     "metadata": {},
     "output_type": "execute_result"
    }
   ],
   "source": [
    "lconvpt .= convolve2G.(I, (lenap2,), (wf,))"
   ]
  },
  {
   "cell_type": "code",
   "execution_count": 301,
   "metadata": {},
   "outputs": [
    {
     "name": "stdout",
     "output_type": "stream",
     "text": [
      "  0.073395 seconds (266.26 k allocations: 73.129 MiB)\n"
     ]
    },
    {
     "data": {
      "text/plain": [
       "516×516 Array{Float64,2}:\n",
       " 0.0018862   0.0103396   0.0242768  …  0.00658205  0.00280827  0.000512301\n",
       " 0.0103396   0.0566782   0.133078      0.0360808   0.0153941   0.00280827\n",
       " 0.0242768   0.133078    0.31246       0.0863178   0.0368467   0.00672177\n",
       " 0.0327185   0.179353    0.421111      0.122408    0.0523236   0.00954516\n",
       " 0.0345642   0.18947     0.444866      0.138688    0.0593668   0.01083\n",
       " 0.0344721   0.188965    0.443682   …  0.142698    0.0610382   0.0111349\n",
       " 0.0343149   0.188104    0.441658      0.14108     0.0602001   0.010982\n",
       " 0.0342151   0.187556    0.440374      0.137106    0.0584237   0.010658\n",
       " 0.0344242   0.188703    0.443065      0.137886    0.0587605   0.0107194\n",
       " 0.0346692   0.190046    0.446218      0.143636    0.061199    0.0111643\n",
       " 0.0347817   0.190663    0.447667   …  0.147222    0.0626563   0.0114301\n",
       " 0.0346519   0.189951    0.445996      0.141617    0.0602463   0.0109905\n",
       " 0.0344132   0.188643    0.442924      0.135636    0.0576684   0.0105202\n",
       " ⋮                                  ⋱                          ⋮\n",
       " 0.0257758   0.141295    0.331754      0.210257    0.0905177   0.0165127\n",
       " 0.0273792   0.150084    0.352391   …  0.228077    0.0982372   0.017921\n",
       " 0.0302539   0.165842    0.38939       0.24482     0.105429    0.019233\n",
       " 0.0334998   0.183636    0.431168      0.256076    0.11002     0.0200705\n",
       " 0.0354797   0.194489    0.45665       0.267191    0.114477    0.0208836\n",
       " 0.0362037   0.198458    0.465969      0.276869    0.118378    0.0215952\n",
       " 0.0362139   0.198513    0.4661     …  0.280834    0.119835    0.021861\n",
       " 0.0351062   0.192441    0.451843      0.284288    0.12128     0.0221245\n",
       " 0.030876    0.169253    0.397397      0.272682    0.116541    0.0212601\n",
       " 0.0210796   0.115552    0.27131       0.204571    0.0876051   0.0159814\n",
       " 0.00848389  0.0465061   0.109194      0.0876889   0.037594    0.00685811\n",
       " 0.00149033  0.00816953  0.0191817  …  0.0160681   0.00689304  0.00125747"
      ]
     },
     "execution_count": 301,
     "metadata": {},
     "output_type": "execute_result"
    }
   ],
   "source": [
    "@time lconvpt .= convolve2G.(I, (lenap2,), (wf,))"
   ]
  },
  {
   "cell_type": "code",
   "execution_count": 306,
   "metadata": {},
   "outputs": [
    {
     "data": {
      "text/plain": [
       "512×512 Array{Float64,2}:\n",
       " 0.31246    0.421111  0.444866  0.443682  …  0.451843  0.397397  0.27131\n",
       " 0.421261   0.567746  0.599772  0.598175     0.609179  0.535774  0.365782\n",
       " 0.445538   0.600464  0.634336  0.632647     0.644285  0.56665   0.386861\n",
       " 0.445768   0.600462  0.633795  0.631916     0.635071  0.556742  0.379225\n",
       " 0.446303   0.600195  0.631689  0.629097     0.584801  0.505096  0.340806\n",
       " 0.445554   0.59846   0.628296  0.625085  …  0.471604  0.396277  0.26383\n",
       " 0.441374   0.593624  0.624591  0.622501     0.340217  0.283241  0.190467\n",
       " 0.435345   0.586502  0.619534  0.619809     0.246178  0.212836  0.149299\n",
       " 0.430061   0.580736  0.616137  0.617964     0.201198  0.183492  0.13383\n",
       " 0.427989   0.578537  0.615031  0.616976     0.187661  0.176202  0.130535\n",
       " 0.428643   0.578968  0.615153  0.617203  …  0.185379  0.17661   0.132206\n",
       " 0.430351   0.580509  0.615488  0.617155     0.184693  0.176699  0.132943\n",
       " 0.432148   0.582388  0.615933  0.616313     0.186469  0.178672  0.134248\n",
       " ⋮                                        ⋱            ⋮         \n",
       " 0.142442   0.19662   0.217356  0.226434  …  0.208041  0.202841  0.153373\n",
       " 0.138726   0.19169   0.212888  0.221849     0.225485  0.228063  0.176922\n",
       " 0.135784   0.188704  0.21135   0.220753     0.245298  0.255188  0.203642\n",
       " 0.134493   0.186654  0.207383  0.214561     0.267995  0.278137  0.222763\n",
       " 0.133318   0.184767  0.203245  0.207542     0.295027  0.298454  0.234424\n",
       " 0.13336    0.184972  0.202882  0.205616  …  0.325134  0.319635  0.245258\n",
       " 0.136053   0.18686   0.202181  0.203967     0.349672  0.335524  0.252261\n",
       " 0.13675    0.185354  0.197397  0.19919      0.367691  0.347898  0.257268\n",
       " 0.130498   0.178226  0.192468  0.196339     0.384255  0.361609  0.265518\n",
       " 0.124188   0.172871  0.191687  0.197407     0.396464  0.374592  0.276394\n",
       " 0.115977   0.163638  0.1844    0.19005   …  0.380989  0.363316  0.27087\n",
       " 0.0863178  0.122408  0.138688  0.142698     0.284288  0.272682  0.204571"
      ]
     },
     "execution_count": 306,
     "metadata": {},
     "output_type": "execute_result"
    }
   ],
   "source": [
    "lconv = collect(transpose(lconvpt[1+hb:sm+hb, 1+hb:sn+hb]))"
   ]
  },
  {
   "cell_type": "code",
   "execution_count": 307,
   "metadata": {},
   "outputs": [
    {
     "data": {
      "text/plain": [
       "true"
      ]
     },
     "execution_count": 307,
     "metadata": {},
     "output_type": "execute_result"
    }
   ],
   "source": [
    "isapprox(lconv, lena_c)"
   ]
  }
 ],
 "metadata": {
  "kernelspec": {
   "display_name": "Julia 1.5.3",
   "language": "julia",
   "name": "julia-1.5"
  },
  "language_info": {
   "file_extension": ".jl",
   "mimetype": "application/julia",
   "name": "julia",
   "version": "1.5.3"
  }
 },
 "nbformat": 4,
 "nbformat_minor": 4
}
