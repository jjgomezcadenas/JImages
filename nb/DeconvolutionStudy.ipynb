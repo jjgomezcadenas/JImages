{
 "cells": [
  {
   "cell_type": "markdown",
   "metadata": {},
   "source": [
    "# Deconvolution study"
   ]
  },
  {
   "cell_type": "code",
   "execution_count": 183,
   "metadata": {},
   "outputs": [
    {
     "name": "stderr",
     "output_type": "stream",
     "text": [
      "\u001b[32m\u001b[1m   Updating\u001b[22m\u001b[39m registry at `~/.julia/registries/General`\n",
      "######################################################################### 100.0%\n",
      "\u001b[32m\u001b[1m   Updating\u001b[22m\u001b[39m registry at `~/.julia/registries/JuliaComputingRegistry`\n",
      "\u001b[32m\u001b[1m  Resolving\u001b[22m\u001b[39m package versions...\n",
      "\u001b[32m\u001b[1m  Installed\u001b[22m\u001b[39m PrettyPrinting ─ v0.2.1\n",
      "\u001b[32m\u001b[1mUpdating\u001b[22m\u001b[39m `~/JuliaProjects/JImages/Project.toml`\n",
      " \u001b[90m [54e16d92] \u001b[39m\u001b[92m+ PrettyPrinting v0.2.1\u001b[39m\n",
      "\u001b[32m\u001b[1mUpdating\u001b[22m\u001b[39m `~/JuliaProjects/JImages/Manifest.toml`\n",
      " \u001b[90m [54e16d92] \u001b[39m\u001b[92m+ PrettyPrinting v0.2.1\u001b[39m\n"
     ]
    }
   ],
   "source": [
    "Pkg.add(\"PrettyPrinting\")"
   ]
  },
  {
   "cell_type": "code",
   "execution_count": 184,
   "metadata": {},
   "outputs": [
    {
     "name": "stderr",
     "output_type": "stream",
     "text": [
      "┌ Info: Precompiling PrettyPrinting [54e16d92-306c-5ea0-a30b-337be88ac337]\n",
      "└ @ Base loading.jl:1278\n"
     ]
    }
   ],
   "source": [
    "using OffsetArrays\n",
    "using StaticArrays\n",
    "using Images\n",
    "using FileIO\n",
    "using Printf\n",
    "using PrettyPrinting"
   ]
  },
  {
   "cell_type": "markdown",
   "metadata": {},
   "source": [
    "## Basis"
   ]
  },
  {
   "cell_type": "markdown",
   "metadata": {},
   "source": [
    "### Spatial Filter"
   ]
  },
  {
   "cell_type": "markdown",
   "metadata": {},
   "source": [
    "A spatial filter consists on a *neighborhood* (tipically a small window, say 3x3 of 5x5 around the pixel) and a *predefined operation* which is performed on the image pixels encompassed by the neighborhood. Filtering creates a new pixel with coordinates equal to the coordinates of the center of the neighborhood and whose value is the filtering operation. A *filtered* image is generated as the center of the filter visits each pixel in the input image. "
   ]
  },
  {
   "cell_type": "markdown",
   "metadata": {},
   "source": [
    "<img src=\"SpatialFiltering.png\">"
   ]
  },
  {
   "cell_type": "code",
   "execution_count": 183,
   "metadata": {},
   "outputs": [],
   "source": [
    "#display(FileIO.load(\"SpatialFiltering.png\"))"
   ]
  },
  {
   "cell_type": "markdown",
   "metadata": {},
   "source": [
    "### Spatial correlation and convolution"
   ]
  },
  {
   "cell_type": "markdown",
   "metadata": {},
   "source": [
    "Correlation and convolution are closely related concept. *Correlation is the process of moving a filter mask over the image and computing the sum of products at each location*. The mechanics of convolution are the same, except that the filter is first rotated by 180°. For symmetric filters both operations are the same."
   ]
  },
  {
   "cell_type": "markdown",
   "metadata": {},
   "source": [
    "<img src=\"corrAndConv.png\"> "
   ]
  },
  {
   "cell_type": "markdown",
   "metadata": {},
   "source": [
    "The figure shows both operations in the case of a 1D function *f* and filter *w*. \n",
    "- (a) shows the f and w\n",
    "- (b) shwows the starting position for corr (left) or conv (right). Notice that there are parts of the function that do not overlap. The solution to this problem is to pad f with enough 0s on either side to allow each pixel in w to visit every pixel in f. If the filter is of size m, we need m - 1 0s on either side of f. \n",
    "- (c) shows a padded function.\n",
    "- The process of sliding the filter over f is shown in d through g. The first value of correlation is the sum of products of f and w for the initial position shown in c (the sum of products is 0). This corresponds to a displacement x = 0. To obtain the second value of correlation, we shift w one pixel location to the right (a displacement of x = 1) and compute the sum of products. The result again is 0. In fact, the first nonzero result is when x = 3, in which case the 8 in w overlaps the 1 in f and the result of correlation is 8. \n",
    "- Proceeding in this manner, we obtain the full correlation result in Fig. (g). Note that it took 12 values of x (i.e., x = 0, 1, 2, ..., 11) to fully slide w past f so that each pixel in w visited every pixel in f."
   ]
  },
  {
   "cell_type": "markdown",
   "metadata": {},
   "source": [
    "- correlation is a function of displacement of the filter. IThe first value of correlation corresponds to zero displacement of the filter, the second corresponds to one unit displacement, and so on. \n",
    "- correlating a filter w with a function that contains all 0s and a single 1 yields a result that is a copy of w , but rotated by 180°. We call a function that contains a single 1 with the rest being 0s a discrete unit impulse. So we conclude that correlation of a function with a discrete unit impulse yields a rotated version of the function at the location of the impulse."
   ]
  },
  {
   "cell_type": "markdown",
   "metadata": {},
   "source": [
    "- Instead a fundamental property of convolution is that convolving a function with a unit impulse yields a copy of the function at the location of the impulse. \n",
    "- To perform convolution all we do is rotate one function by 180° and perform the same operations as in correlation. As it turns out, it makes no difference which of the two functions we rotate."
   ]
  },
  {
   "cell_type": "markdown",
   "metadata": {},
   "source": [
    "<img src=\"corrAndConv2D.png\">  "
   ]
  },
  {
   "cell_type": "markdown",
   "metadata": {},
   "source": [
    "Extension to images (2D) is shown in the figure: f(x,y) is a 5x5 function and w(x,y) is a 3x3 filter. \n",
    "- We start by padding each dimension with 3-1 = 2 zeros in each side. Thus the padded image is 9 x 9. For a filter of size m * n, we pad the image with a minimum of m-1 rows of 0s at the top and bottom and n-1 columns of 0s on the left and right. In (a) the filter is in the initial position.\n",
    "- (b) shows the correlation result. The first element different from zero is 9. Then, as we slide the window we obtain a rotated copy of w. Finally we crop to the dimensions of f. \n",
    "- (c) shows how to make the convolution. We need to *flip* the filter, changing the order of files and columns (the equivalent of rotatin the filter by 180 degrees). \n",
    "- (d) shows that the result of the convoltuion is a copy of the initial filter, with the dimension, in (e) of the image f (after cropping). "
   ]
  },
  {
   "cell_type": "markdown",
   "metadata": {},
   "source": [
    "The *correlation* of a filter w(x, y) of size m * n with an image f(x, y), denoted as $w(x, y) \\star f(x, y)$, is:\n",
    "$$\n",
    "w(x,y) \\star f(x,y) = \\sum_{s = -a}^{a} \\sum_{t = -b}^{b} w(s,t) f(x + s, y + t) \n",
    "$$\n",
    "\n",
    "While  the *convolution* of a filter w(x, y) of size m * n with an image f(x, y), denoted as $w(x, y) \\ast f(x, y)$, is:\n",
    "$$\n",
    "w(x,y) \\ast f(x,y) = \\sum_{s = -a}^{a} \\sum_{t = -b}^{b} w(s,t) f(x-s, y-t) \n",
    "$$\n",
    "\n",
    "Flipping and shifting f (in convolution) instead of w is done for notational simplicity. The equations are evaluated for all values of the displacement variables x and y so that every element of w visits every pixel in f, which we assume has been padded appropriately."
   ]
  },
  {
   "cell_type": "markdown",
   "metadata": {},
   "source": [
    "### Example: Generating a gaussian filter (or kernel)"
   ]
  },
  {
   "cell_type": "markdown",
   "metadata": {},
   "source": [
    "A Gaussian function of two variables, with mean $\\mu=0$ and std $\\sigma$ has the  form\n",
    "\n",
    "$$\n",
    "g(x,y) = \\frac{1}{\\sqrt{2\\pi\\sigma^2}}e^{-\\frac{x^2 + y^2}{2\\sigma^2}}\n",
    "$$\n",
    "\n",
    "To generate, say, a 3x3 filter we sample it about its center. Thus, $w_1 = h(-1, -1), w_2 = h(-1, 0), ..., w_9 = h(1, 1)$. \n"
   ]
  },
  {
   "cell_type": "markdown",
   "metadata": {},
   "source": [
    "## Application"
   ]
  },
  {
   "cell_type": "markdown",
   "metadata": {},
   "source": [
    "### Functions"
   ]
  },
  {
   "cell_type": "markdown",
   "metadata": {},
   "source": [
    "`pretty_print` formats arrays in compact \"pretty\" form"
   ]
  },
  {
   "cell_type": "code",
   "execution_count": 251,
   "metadata": {},
   "outputs": [
    {
     "data": {
      "text/plain": [
       "flip2d (generic function with 1 method)"
      ]
     },
     "execution_count": 251,
     "metadata": {},
     "output_type": "execute_result"
    }
   ],
   "source": [
    "function pretty_print(fc::AbstractArray)\n",
    "    r,c = size(fc)\n",
    "    for i in 1:r \n",
    "        e1 = \"\"\n",
    "        for j = 1:c\n",
    "            e1 = string(e1, \"\\t\", @sprintf(\"%d\", fc[i,j]))\n",
    "        end\n",
    "        println(e1)\n",
    "    end\n",
    "end\n",
    "\n",
    "function pretty_print(ff::OffsetArray)\n",
    "    fc = collect(ff)\n",
    "    pretty_print(fc, form)\n",
    "end\n",
    "\n",
    "function pretty_print(CI::CartesianIndices)\n",
    "    r,c = size(CI)\n",
    "    for i in 1:r \n",
    "        e1 = \"\"\n",
    "        for j = 1:c\n",
    "            x,y = CI[i,j].I\n",
    "            e1 = string(e1, \"\\t\", @sprintf(\"(%d,%d)\", x,y))\n",
    "        end\n",
    "        println(e1)\n",
    "    end\n",
    "end\n",
    "\n",
    "\n",
    "function ci_array(ranges = (-1:1, -1:1))\n",
    "    broadcast(i->i.I, CartesianIndices(ranges))\n",
    "end\n",
    "\n",
    "function flip2d(x::Array{Float64,2})\n",
    "    y = copy(x)\n",
    "    for d in 1:2\n",
    "        y = reverse(y, dims=d)\n",
    "    end\n",
    "    return y\n",
    "end"
   ]
  },
  {
   "cell_type": "markdown",
   "metadata": {},
   "source": [
    "### Cartesian indices"
   ]
  },
  {
   "cell_type": "markdown",
   "metadata": {},
   "source": [
    "A `CartesianIndex{N}` represents an N-dimensional index. `CartesianIndexes` are based on tuples, and indeed you can access the underlying tuple with `Tuple(i)`.\n",
    "A `CartesianIndices`  acts like an array of CartesianIndex values. Thus a Cartesian index (N=2) maps a point in a grid, and is very well suited to describe 2D images. Something applies to higher dimensions. "
   ]
  },
  {
   "cell_type": "code",
   "execution_count": 244,
   "metadata": {},
   "outputs": [
    {
     "data": {
      "text/plain": [
       "3×4 Array{Float64,2}:\n",
       " 5.0  1.0  10.0  100.0\n",
       " 6.0  2.0  20.0  200.0\n",
       " 7.0  3.0  30.0  300.0"
      ]
     },
     "execution_count": 244,
     "metadata": {},
     "output_type": "execute_result"
    }
   ],
   "source": [
    "A = [[5., 6., 7.] [1., 2., 3.] [10.,20., 30.,] [100., 200., 300.]]"
   ]
  },
  {
   "cell_type": "code",
   "execution_count": 245,
   "metadata": {},
   "outputs": [
    {
     "data": {
      "text/plain": [
       "(3, 4)"
      ]
     },
     "execution_count": 245,
     "metadata": {},
     "output_type": "execute_result"
    }
   ],
   "source": [
    "size(A)"
   ]
  },
  {
   "cell_type": "code",
   "execution_count": 246,
   "metadata": {},
   "outputs": [
    {
     "name": "stdout",
     "output_type": "stream",
     "text": [
      "\t5\t1\t10\t100\n",
      "\t6\t2\t20\t200\n",
      "\t7\t3\t30\t300\n"
     ]
    }
   ],
   "source": [
    "pretty_print(A)"
   ]
  },
  {
   "cell_type": "code",
   "execution_count": 175,
   "metadata": {},
   "outputs": [
    {
     "data": {
      "text/plain": [
       "(3, 4)"
      ]
     },
     "execution_count": 175,
     "metadata": {},
     "output_type": "execute_result"
    }
   ],
   "source": [
    "size(CartesianIndices(A))"
   ]
  },
  {
   "cell_type": "code",
   "execution_count": 196,
   "metadata": {},
   "outputs": [
    {
     "data": {
      "text/plain": [
       "3×4 CartesianIndices{2,Tuple{Base.OneTo{Int64},Base.OneTo{Int64}}}:\n",
       " CartesianIndex(1, 1)  CartesianIndex(1, 2)  …  CartesianIndex(1, 4)\n",
       " CartesianIndex(2, 1)  CartesianIndex(2, 2)     CartesianIndex(2, 4)\n",
       " CartesianIndex(3, 1)  CartesianIndex(3, 2)     CartesianIndex(3, 4)"
      ]
     },
     "execution_count": 196,
     "metadata": {},
     "output_type": "execute_result"
    }
   ],
   "source": [
    "i = CartesianIndices(A)"
   ]
  },
  {
   "cell_type": "code",
   "execution_count": 197,
   "metadata": {},
   "outputs": [
    {
     "data": {
      "text/plain": [
       "CartesianIndices{2,Tuple{Base.OneTo{Int64},Base.OneTo{Int64}}}"
      ]
     },
     "execution_count": 197,
     "metadata": {},
     "output_type": "execute_result"
    }
   ],
   "source": [
    "typeof(i)"
   ]
  },
  {
   "cell_type": "code",
   "execution_count": 198,
   "metadata": {},
   "outputs": [
    {
     "data": {
      "text/plain": [
       "AbstractArray{CartesianIndex{2},2}"
      ]
     },
     "execution_count": 198,
     "metadata": {},
     "output_type": "execute_result"
    }
   ],
   "source": [
    "supertype(typeof(i))"
   ]
  },
  {
   "cell_type": "code",
   "execution_count": 199,
   "metadata": {},
   "outputs": [
    {
     "name": "stdout",
     "output_type": "stream",
     "text": [
      "\t(1,1)\t(1,2)\t(1,3)\t(1,4)\n",
      "\t(2,1)\t(2,2)\t(2,3)\t(2,4)\n",
      "\t(3,1)\t(3,2)\t(3,3)\t(3,4)\n"
     ]
    }
   ],
   "source": [
    "pretty_print(i)"
   ]
  },
  {
   "cell_type": "markdown",
   "metadata": {},
   "source": [
    "In the example above, the cartesian indices are extracted from the array A, and thus are simply the conventional indexing. However, One can construct CartesianIndices around suitable axis. Thus, to generate a gaussian filter is convenient to use the notation introduced above, $w_1 = h(-1, -1), w_2 = h(-1, 0), ..., w_9 = h(1, 1)$. This can be trivially done with CartesianIndices"
   ]
  },
  {
   "cell_type": "code",
   "execution_count": 200,
   "metadata": {},
   "outputs": [
    {
     "data": {
      "text/plain": [
       "3×3 CartesianIndices{2,Tuple{UnitRange{Int64},UnitRange{Int64}}}:\n",
       " CartesianIndex(-1, -1)  CartesianIndex(-1, 0)  CartesianIndex(-1, 1)\n",
       " CartesianIndex(0, -1)   CartesianIndex(0, 0)   CartesianIndex(0, 1)\n",
       " CartesianIndex(1, -1)   CartesianIndex(1, 0)   CartesianIndex(1, 1)"
      ]
     },
     "execution_count": 200,
     "metadata": {},
     "output_type": "execute_result"
    }
   ],
   "source": [
    "i = CartesianIndices(((-1:1), (-1:1)))"
   ]
  },
  {
   "cell_type": "code",
   "execution_count": 201,
   "metadata": {},
   "outputs": [
    {
     "data": {
      "text/plain": [
       "CartesianIndex(-1, -1)"
      ]
     },
     "execution_count": 201,
     "metadata": {},
     "output_type": "execute_result"
    }
   ],
   "source": [
    "iter[1]"
   ]
  },
  {
   "cell_type": "code",
   "execution_count": 202,
   "metadata": {},
   "outputs": [
    {
     "name": "stdout",
     "output_type": "stream",
     "text": [
      "\t(-1,-1)\t(-1,0)\t(-1,1)\n",
      "\t(0,-1)\t(0,0)\t(0,1)\n",
      "\t(1,-1)\t(1,0)\t(1,1)\n"
     ]
    }
   ],
   "source": [
    "pretty_print(i)"
   ]
  },
  {
   "cell_type": "markdown",
   "metadata": {},
   "source": [
    "### Gaussian Kernel"
   ]
  },
  {
   "cell_type": "markdown",
   "metadata": {},
   "source": [
    "- First, we define a generic 2D gaussian function. "
   ]
  },
  {
   "cell_type": "code",
   "execution_count": 16,
   "metadata": {},
   "outputs": [
    {
     "data": {
      "text/plain": [
       "G (generic function with 2 methods)"
      ]
     },
     "execution_count": 16,
     "metadata": {},
     "output_type": "execute_result"
    }
   ],
   "source": [
    "G(x,y,σ=1.0) = exp(-(x^2 + y^2) / (2 * σ^2) ) # not normalised"
   ]
  },
  {
   "cell_type": "markdown",
   "metadata": {},
   "source": [
    "- And now a specialization for Cartesian Indices. "
   ]
  },
  {
   "cell_type": "code",
   "execution_count": 17,
   "metadata": {},
   "outputs": [
    {
     "data": {
      "text/plain": [
       "G (generic function with 4 methods)"
      ]
     },
     "execution_count": 17,
     "metadata": {},
     "output_type": "execute_result"
    }
   ],
   "source": [
    "G(I::CartesianIndex{2}, σ=1.0) = G(I.I..., σ)  # I.I... matches the tuple I.I to values (x,y)"
   ]
  },
  {
   "cell_type": "markdown",
   "metadata": {},
   "source": [
    "#### Finally the function defining the Gaussian Kernel (Filter), which applies to each of the cartesian indices the value of G"
   ]
  },
  {
   "cell_type": "code",
   "execution_count": 18,
   "metadata": {},
   "outputs": [
    {
     "data": {
      "text/plain": [
       "gaussian_filter (generic function with 2 methods)"
      ]
     },
     "execution_count": 18,
     "metadata": {},
     "output_type": "execute_result"
    }
   ],
   "source": [
    "function gaussian_filter(σ, l=1) # order \"l=1\" creates a 3 x 3 filter, l=2 a 5x5 filter and so on \n",
    "    gauss = map(i->G(i, σ), CartesianIndices((-l:l, -l:l))) \n",
    "    gauss./sum(gauss)  #divide all elements of gauss by its sum to normalise\n",
    "end"
   ]
  },
  {
   "cell_type": "code",
   "execution_count": 203,
   "metadata": {},
   "outputs": [
    {
     "data": {
      "text/plain": [
       "3×3 Array{Float64,2}:\n",
       " 0.0751136  0.123841  0.0751136\n",
       " 0.123841   0.20418   0.123841\n",
       " 0.0751136  0.123841  0.0751136"
      ]
     },
     "execution_count": 203,
     "metadata": {},
     "output_type": "execute_result"
    }
   ],
   "source": [
    "gaussian_filter(1.0, 1)"
   ]
  },
  {
   "cell_type": "code",
   "execution_count": 204,
   "metadata": {},
   "outputs": [
    {
     "data": {
      "text/plain": [
       "0.9999999999999999"
      ]
     },
     "execution_count": 204,
     "metadata": {},
     "output_type": "execute_result"
    }
   ],
   "source": [
    "sum(gaussian_filter(1.0, 1))"
   ]
  },
  {
   "cell_type": "code",
   "execution_count": 205,
   "metadata": {},
   "outputs": [
    {
     "data": {
      "text/plain": [
       "3×3 Array{Float64,2}:\n",
       " 0.0113437  0.0838195  0.0113437\n",
       " 0.0838195  0.619347   0.0838195\n",
       " 0.0113437  0.0838195  0.0113437"
      ]
     },
     "execution_count": 205,
     "metadata": {},
     "output_type": "execute_result"
    }
   ],
   "source": [
    "gaussian_filter(0.5, 1)"
   ]
  },
  {
   "cell_type": "code",
   "execution_count": 206,
   "metadata": {},
   "outputs": [
    {
     "data": {
      "text/plain": [
       "1.0"
      ]
     },
     "execution_count": 206,
     "metadata": {},
     "output_type": "execute_result"
    }
   ],
   "source": [
    "sum(gaussian_filter(0.5, 1))"
   ]
  },
  {
   "cell_type": "code",
   "execution_count": 207,
   "metadata": {},
   "outputs": [
    {
     "data": {
      "text/plain": [
       "5×5 Array{Float64,2}:\n",
       " 0.00296902  0.0133062  0.0219382  0.0133062  0.00296902\n",
       " 0.0133062   0.0596343  0.0983203  0.0596343  0.0133062\n",
       " 0.0219382   0.0983203  0.162103   0.0983203  0.0219382\n",
       " 0.0133062   0.0596343  0.0983203  0.0596343  0.0133062\n",
       " 0.00296902  0.0133062  0.0219382  0.0133062  0.00296902"
      ]
     },
     "execution_count": 207,
     "metadata": {},
     "output_type": "execute_result"
    }
   ],
   "source": [
    "gaussian_filter(1.0, 2)"
   ]
  },
  {
   "cell_type": "code",
   "execution_count": 208,
   "metadata": {},
   "outputs": [
    {
     "data": {
      "text/plain": [
       "0.9999999999999999"
      ]
     },
     "execution_count": 208,
     "metadata": {},
     "output_type": "execute_result"
    }
   ],
   "source": [
    "sum(gaussian_filter(1.0, 2))"
   ]
  },
  {
   "cell_type": "markdown",
   "metadata": {},
   "source": [
    "### Filter frame (neighboors)"
   ]
  },
  {
   "cell_type": "markdown",
   "metadata": {},
   "source": [
    "To perform a convolution, we slide a frame of the size of the filter (we will assume it to be squared for simplicity, like `w` in the exapmple above) centered in each element of the matrix representing the function to be convoluted (`fxy`), then multiply the elements of the filter by the elements contained in the frame and sum the products, replacing the value in the center of the frame by the result of the operation.\n",
    "\n",
    "Each element of `fxy` is labeled by a CartexianIndex (i,j). Thus, we can represent the frame surrounding this element by (i-w:i+w, j-w:j+w), where w is the integer divison of the filter size and 2. For a 3 x 3 filter, w = 1. Notice that the idea of the sliding frame is well defined for filters of odd dimensions. For filters of even dimensions one needs to pad the filter with extra zeros. "
   ]
  },
  {
   "cell_type": "code",
   "execution_count": 211,
   "metadata": {},
   "outputs": [
    {
     "data": {
      "text/plain": [
       "filter_frame (generic function with 1 method)"
      ]
     },
     "execution_count": 211,
     "metadata": {},
     "output_type": "execute_result"
    }
   ],
   "source": [
    "@inline function filter_frame(I::CartesianIndex{2}, filter_size::Int) \n",
    "    # assume that the filter is squared\n",
    "    w = filter_size÷2   \n",
    "    ntuple(i->(I.I[i]-w): (I.I[i]+w), 2)  # for N=2 i runs (1,2)\n",
    "end"
   ]
  },
  {
   "cell_type": "code",
   "execution_count": 25,
   "metadata": {},
   "outputs": [
    {
     "data": {
      "text/plain": [
       "neighbors (generic function with 1 method)"
      ]
     },
     "execution_count": 25,
     "metadata": {},
     "output_type": "execute_result"
    }
   ],
   "source": [
    "@inline function neighbors(I::CartesianIndex{N}, l::Int) where N\n",
    "    # if l = size(filter), w = l\\div 2. e.g, size of filter = 3, w = 3 \\div 2 = 1, range -1:1\n",
    "    w = l÷2   \n",
    "    ntuple(i->(I.I[i]-w): (I.I[i]+w), Val(N))  # for N=2 i runs (1,2)\n",
    "end"
   ]
  },
  {
   "cell_type": "markdown",
   "metadata": {},
   "source": [
    "Define the filter `w` as in the example above:"
   ]
  },
  {
   "cell_type": "code",
   "execution_count": 217,
   "metadata": {},
   "outputs": [
    {
     "data": {
      "text/plain": [
       "3×3 Array{Float64,2}:\n",
       " 1.0  2.0  3.0\n",
       " 4.0  5.0  6.0\n",
       " 7.0  8.0  9.0"
      ]
     },
     "execution_count": 217,
     "metadata": {},
     "output_type": "execute_result"
    }
   ],
   "source": [
    "w = collect(transpose(Float64.(reshape(1:9, 3, 3))))"
   ]
  },
  {
   "cell_type": "code",
   "execution_count": 218,
   "metadata": {},
   "outputs": [
    {
     "data": {
      "text/plain": [
       "3×3 CartesianIndices{2,Tuple{Base.OneTo{Int64},Base.OneTo{Int64}}}:\n",
       " CartesianIndex(1, 1)  CartesianIndex(1, 2)  CartesianIndex(1, 3)\n",
       " CartesianIndex(2, 1)  CartesianIndex(2, 2)  CartesianIndex(2, 3)\n",
       " CartesianIndex(3, 1)  CartesianIndex(3, 2)  CartesianIndex(3, 3)"
      ]
     },
     "execution_count": 218,
     "metadata": {},
     "output_type": "execute_result"
    }
   ],
   "source": [
    "ci = CartesianIndices(w)"
   ]
  },
  {
   "cell_type": "code",
   "execution_count": 220,
   "metadata": {},
   "outputs": [
    {
     "name": "stdout",
     "output_type": "stream",
     "text": [
      "For cartexian index = CartesianIndex(1, 1)\n",
      "neighbors (w)  = (0:2, 0:2)\n",
      "For cartexian index = CartesianIndex(2, 1)\n",
      "neighbors (w)  = (1:3, 0:2)\n",
      "For cartexian index = CartesianIndex(3, 1)\n",
      "neighbors (w)  = (2:4, 0:2)\n",
      "For cartexian index = CartesianIndex(1, 2)\n",
      "neighbors (w)  = (0:2, 1:3)\n",
      "For cartexian index = CartesianIndex(2, 2)\n",
      "neighbors (w)  = (1:3, 1:3)\n",
      "For cartexian index = CartesianIndex(3, 2)\n",
      "neighbors (w)  = (2:4, 1:3)\n",
      "For cartexian index = CartesianIndex(1, 3)\n",
      "neighbors (w)  = (0:2, 2:4)\n",
      "For cartexian index = CartesianIndex(2, 3)\n",
      "neighbors (w)  = (1:3, 2:4)\n",
      "For cartexian index = CartesianIndex(3, 3)\n",
      "neighbors (w)  = (2:4, 2:4)\n"
     ]
    }
   ],
   "source": [
    "for i in ci\n",
    "    println(\"For cartexian index = \", i)\n",
    "    println(\"neighbors (w)  = \", neighbors(i, size(w,1)))\n",
    "end"
   ]
  },
  {
   "cell_type": "markdown",
   "metadata": {},
   "source": [
    "### OffsetArrays"
   ]
  },
  {
   "cell_type": "markdown",
   "metadata": {},
   "source": [
    "-OffsetArrays provides Julia users with arrays that have arbitrary indices\n",
    "\n",
    "OA = OffsetArray(A, axis1, axis2, ...)\n",
    "\n",
    "- This means that the indices in each dimension do not need to run like normal indices (1,2,3...) but can take, for instance a tuple of CartesianIndex. Thus, a 3x3 array would have elements running from 1:3 in each axis, while an OffsetArray could have elements running from -1:1 in each axis"
   ]
  },
  {
   "cell_type": "code",
   "execution_count": 221,
   "metadata": {},
   "outputs": [
    {
     "data": {
      "text/plain": [
       "3×3 Array{Float64,2}:\n",
       " 1.0  2.0  3.0\n",
       " 4.0  5.0  6.0\n",
       " 7.0  8.0  9.0"
      ]
     },
     "execution_count": 221,
     "metadata": {},
     "output_type": "execute_result"
    }
   ],
   "source": [
    "w"
   ]
  },
  {
   "cell_type": "code",
   "execution_count": 222,
   "metadata": {},
   "outputs": [
    {
     "data": {
      "text/plain": [
       "3×3 OffsetArray(::Array{Float64,2}, -1:1, -1:1) with eltype Float64 with indices -1:1×-1:1:\n",
       " 1.0  2.0  3.0\n",
       " 4.0  5.0  6.0\n",
       " 7.0  8.0  9.0"
      ]
     },
     "execution_count": 222,
     "metadata": {},
     "output_type": "execute_result"
    }
   ],
   "source": [
    "OA = OffsetArray(w, (-1:1, -1:1)) # OA will have axes (-1:1, -1:1)"
   ]
  },
  {
   "cell_type": "code",
   "execution_count": 223,
   "metadata": {},
   "outputs": [
    {
     "data": {
      "text/plain": [
       "3×3 OffsetArray(::Array{Float64,2}, 0:2, 0:2) with eltype Float64 with indices 0:2×0:2:\n",
       " 1.0  2.0  3.0\n",
       " 4.0  5.0  6.0\n",
       " 7.0  8.0  9.0"
      ]
     },
     "execution_count": 223,
     "metadata": {},
     "output_type": "execute_result"
    }
   ],
   "source": [
    "OA = OffsetArray(w, (0:2, 0:2)) # OA will have axes (0:2, 0:2)"
   ]
  },
  {
   "cell_type": "markdown",
   "metadata": {},
   "source": [
    "### Padding an image"
   ]
  },
  {
   "cell_type": "markdown",
   "metadata": {},
   "source": [
    "Suppose we want to pad an image with a border. Remember that for a filter of size m * n, we need to pad the image with a minimum of m-1 rows of 0s at the top and bottom and n-1 columns of 0s on the left and right. In (a) the filter is in the initial position. Let's assume for convenience that the filter is squared (mxm). Thus, if the image has size (s,l) an we define border = m-1 = 2, we need to pad with s + border (left/right), and s + border (top/bottom), so (s + 2 * border) in each axis. \n",
    "\n",
    "Suppose, as in our examples above that the image has size 5x5 and the filter has size 3x3. Then, m=2 and the passed image will have a size 5 + 2 * 2 = 9 in each axis. "
   ]
  },
  {
   "cell_type": "code",
   "execution_count": 224,
   "metadata": {},
   "outputs": [
    {
     "data": {
      "text/plain": [
       "pad (generic function with 1 method)"
      ]
     },
     "execution_count": 224,
     "metadata": {},
     "output_type": "execute_result"
    }
   ],
   "source": [
    "function pad(data, border)\n",
    "    padded_size  = map(s->s+2*border, size(data))  # in each axis \n",
    "    \n",
    "    # the padded_range is relative to the main image. \n",
    "    # We want to extend it to the left/up (1-border) and to the right/down (s+border)\n",
    "    padded_range = map(s->(1-border):(s+border), size(data))\n",
    "    \n",
    "    # the range to index the output image extends from 1:s in each direction\n",
    "    range        = CartesianIndices(map(s->1:s, size(data))) \n",
    "    \n",
    "    # zeros dimension sxs and offset array \n",
    "    odata        = OffsetArray(zeros(eltype(data), padded_size), padded_range...)\n",
    "    \n",
    "    odata[range] = data # fill the padded image with the original data\n",
    "     \n",
    "    return odata, collect(range)\n",
    "end"
   ]
  },
  {
   "cell_type": "markdown",
   "metadata": {},
   "source": [
    "Let's disect the function, using our example above. First we define f(x,y)"
   ]
  },
  {
   "cell_type": "code",
   "execution_count": 225,
   "metadata": {},
   "outputs": [],
   "source": [
    "fxy = zeros(eltype(0.), (5,5))\n",
    "fxy[3,3] = 1;"
   ]
  },
  {
   "cell_type": "code",
   "execution_count": 226,
   "metadata": {},
   "outputs": [
    {
     "data": {
      "text/plain": [
       "5×5 Array{Float64,2}:\n",
       " 0.0  0.0  0.0  0.0  0.0\n",
       " 0.0  0.0  0.0  0.0  0.0\n",
       " 0.0  0.0  1.0  0.0  0.0\n",
       " 0.0  0.0  0.0  0.0  0.0\n",
       " 0.0  0.0  0.0  0.0  0.0"
      ]
     },
     "execution_count": 226,
     "metadata": {},
     "output_type": "execute_result"
    }
   ],
   "source": [
    "fxy  # this is the function f(x,y)"
   ]
  },
  {
   "cell_type": "markdown",
   "metadata": {},
   "source": [
    "define also the filter"
   ]
  },
  {
   "cell_type": "code",
   "execution_count": 227,
   "metadata": {},
   "outputs": [
    {
     "data": {
      "text/plain": [
       "3×3 Array{Float64,2}:\n",
       " 1.0  2.0  3.0\n",
       " 4.0  5.0  6.0\n",
       " 7.0  8.0  9.0"
      ]
     },
     "execution_count": 227,
     "metadata": {},
     "output_type": "execute_result"
    }
   ],
   "source": [
    "w "
   ]
  },
  {
   "cell_type": "markdown",
   "metadata": {},
   "source": [
    "The border (number of padded raws/columns) for a m x m filter is m-1 in each axis"
   ]
  },
  {
   "cell_type": "code",
   "execution_count": 228,
   "metadata": {},
   "outputs": [
    {
     "data": {
      "text/plain": [
       "2"
      ]
     },
     "execution_count": 228,
     "metadata": {},
     "output_type": "execute_result"
    }
   ],
   "source": [
    "border = size(w,1)-1"
   ]
  },
  {
   "cell_type": "markdown",
   "metadata": {},
   "source": [
    "The size of the padded image is"
   ]
  },
  {
   "cell_type": "code",
   "execution_count": 229,
   "metadata": {},
   "outputs": [
    {
     "data": {
      "text/plain": [
       "(9, 9)"
      ]
     },
     "execution_count": 229,
     "metadata": {},
     "output_type": "execute_result"
    }
   ],
   "source": [
    "padded_size  = map(s->s+2*border, size(fxy))"
   ]
  },
  {
   "cell_type": "markdown",
   "metadata": {},
   "source": [
    "The padded range extends the size of the image to the left/right (up/down) by border. This can be expressed in the range"
   ]
  },
  {
   "cell_type": "code",
   "execution_count": 230,
   "metadata": {},
   "outputs": [
    {
     "data": {
      "text/plain": [
       "(-1:7, -1:7)"
      ]
     },
     "execution_count": 230,
     "metadata": {},
     "output_type": "execute_result"
    }
   ],
   "source": [
    "padded_range = map(s->(1-border):(s+border), size(fxy))"
   ]
  },
  {
   "cell_type": "markdown",
   "metadata": {},
   "source": [
    "while the range of the image is:"
   ]
  },
  {
   "cell_type": "code",
   "execution_count": 231,
   "metadata": {},
   "outputs": [
    {
     "data": {
      "text/plain": [
       "5×5 CartesianIndices{2,Tuple{UnitRange{Int64},UnitRange{Int64}}}:\n",
       " CartesianIndex(1, 1)  CartesianIndex(1, 2)  …  CartesianIndex(1, 5)\n",
       " CartesianIndex(2, 1)  CartesianIndex(2, 2)     CartesianIndex(2, 5)\n",
       " CartesianIndex(3, 1)  CartesianIndex(3, 2)     CartesianIndex(3, 5)\n",
       " CartesianIndex(4, 1)  CartesianIndex(4, 2)     CartesianIndex(4, 5)\n",
       " CartesianIndex(5, 1)  CartesianIndex(5, 2)     CartesianIndex(5, 5)"
      ]
     },
     "execution_count": 231,
     "metadata": {},
     "output_type": "execute_result"
    }
   ],
   "source": [
    "range  = CartesianIndices(map(s->1:s, size(fxy)))"
   ]
  },
  {
   "cell_type": "markdown",
   "metadata": {},
   "source": [
    "Notice that the image goes from 1:5 and the padded image will extend 2 in each direction. We can form now the padded function as an offset array. First, filled with zeros"
   ]
  },
  {
   "cell_type": "code",
   "execution_count": 232,
   "metadata": {},
   "outputs": [
    {
     "data": {
      "text/plain": [
       "9×9 OffsetArray(::Array{Float64,2}, -1:7, -1:7) with eltype Float64 with indices -1:7×-1:7:\n",
       " 0.0  0.0  0.0  0.0  0.0  0.0  0.0  0.0  0.0\n",
       " 0.0  0.0  0.0  0.0  0.0  0.0  0.0  0.0  0.0\n",
       " 0.0  0.0  0.0  0.0  0.0  0.0  0.0  0.0  0.0\n",
       " 0.0  0.0  0.0  0.0  0.0  0.0  0.0  0.0  0.0\n",
       " 0.0  0.0  0.0  0.0  0.0  0.0  0.0  0.0  0.0\n",
       " 0.0  0.0  0.0  0.0  0.0  0.0  0.0  0.0  0.0\n",
       " 0.0  0.0  0.0  0.0  0.0  0.0  0.0  0.0  0.0\n",
       " 0.0  0.0  0.0  0.0  0.0  0.0  0.0  0.0  0.0\n",
       " 0.0  0.0  0.0  0.0  0.0  0.0  0.0  0.0  0.0"
      ]
     },
     "execution_count": 232,
     "metadata": {},
     "output_type": "execute_result"
    }
   ],
   "source": [
    "padded_function   = OffsetArray(zeros(eltype(fxy), padded_size), padded_range...)"
   ]
  },
  {
   "cell_type": "markdown",
   "metadata": {},
   "source": [
    "And then, copy the fxy function in the center of the padded function"
   ]
  },
  {
   "cell_type": "code",
   "execution_count": 233,
   "metadata": {},
   "outputs": [
    {
     "data": {
      "text/plain": [
       "5×5 Array{Float64,2}:\n",
       " 0.0  0.0  0.0  0.0  0.0\n",
       " 0.0  0.0  0.0  0.0  0.0\n",
       " 0.0  0.0  1.0  0.0  0.0\n",
       " 0.0  0.0  0.0  0.0  0.0\n",
       " 0.0  0.0  0.0  0.0  0.0"
      ]
     },
     "execution_count": 233,
     "metadata": {},
     "output_type": "execute_result"
    }
   ],
   "source": [
    "padded_function[range] = fxy"
   ]
  },
  {
   "cell_type": "code",
   "execution_count": 234,
   "metadata": {},
   "outputs": [
    {
     "data": {
      "text/plain": [
       "9×9 OffsetArray(::Array{Float64,2}, -1:7, -1:7) with eltype Float64 with indices -1:7×-1:7:\n",
       " 0.0  0.0  0.0  0.0  0.0  0.0  0.0  0.0  0.0\n",
       " 0.0  0.0  0.0  0.0  0.0  0.0  0.0  0.0  0.0\n",
       " 0.0  0.0  0.0  0.0  0.0  0.0  0.0  0.0  0.0\n",
       " 0.0  0.0  0.0  0.0  0.0  0.0  0.0  0.0  0.0\n",
       " 0.0  0.0  0.0  0.0  1.0  0.0  0.0  0.0  0.0\n",
       " 0.0  0.0  0.0  0.0  0.0  0.0  0.0  0.0  0.0\n",
       " 0.0  0.0  0.0  0.0  0.0  0.0  0.0  0.0  0.0\n",
       " 0.0  0.0  0.0  0.0  0.0  0.0  0.0  0.0  0.0\n",
       " 0.0  0.0  0.0  0.0  0.0  0.0  0.0  0.0  0.0"
      ]
     },
     "execution_count": 234,
     "metadata": {},
     "output_type": "execute_result"
    }
   ],
   "source": [
    "padded_function "
   ]
  },
  {
   "cell_type": "markdown",
   "metadata": {},
   "source": [
    "This is what we get calling the pad function"
   ]
  },
  {
   "cell_type": "code",
   "execution_count": 235,
   "metadata": {},
   "outputs": [],
   "source": [
    "fxyp, cr = pad(fxy, border);"
   ]
  },
  {
   "cell_type": "code",
   "execution_count": 236,
   "metadata": {},
   "outputs": [
    {
     "data": {
      "text/plain": [
       "9×9 OffsetArray(::Array{Float64,2}, -1:7, -1:7) with eltype Float64 with indices -1:7×-1:7:\n",
       " 0.0  0.0  0.0  0.0  0.0  0.0  0.0  0.0  0.0\n",
       " 0.0  0.0  0.0  0.0  0.0  0.0  0.0  0.0  0.0\n",
       " 0.0  0.0  0.0  0.0  0.0  0.0  0.0  0.0  0.0\n",
       " 0.0  0.0  0.0  0.0  0.0  0.0  0.0  0.0  0.0\n",
       " 0.0  0.0  0.0  0.0  1.0  0.0  0.0  0.0  0.0\n",
       " 0.0  0.0  0.0  0.0  0.0  0.0  0.0  0.0  0.0\n",
       " 0.0  0.0  0.0  0.0  0.0  0.0  0.0  0.0  0.0\n",
       " 0.0  0.0  0.0  0.0  0.0  0.0  0.0  0.0  0.0\n",
       " 0.0  0.0  0.0  0.0  0.0  0.0  0.0  0.0  0.0"
      ]
     },
     "execution_count": 236,
     "metadata": {},
     "output_type": "execute_result"
    }
   ],
   "source": [
    "fxyp"
   ]
  },
  {
   "cell_type": "code",
   "execution_count": 237,
   "metadata": {},
   "outputs": [
    {
     "data": {
      "text/plain": [
       "5×5 Array{CartesianIndex{2},2}:\n",
       " CartesianIndex(1, 1)  CartesianIndex(1, 2)  …  CartesianIndex(1, 5)\n",
       " CartesianIndex(2, 1)  CartesianIndex(2, 2)     CartesianIndex(2, 5)\n",
       " CartesianIndex(3, 1)  CartesianIndex(3, 2)     CartesianIndex(3, 5)\n",
       " CartesianIndex(4, 1)  CartesianIndex(4, 2)     CartesianIndex(4, 5)\n",
       " CartesianIndex(5, 1)  CartesianIndex(5, 2)     CartesianIndex(5, 5)"
      ]
     },
     "execution_count": 237,
     "metadata": {},
     "output_type": "execute_result"
    }
   ],
   "source": [
    "cr"
   ]
  },
  {
   "cell_type": "markdown",
   "metadata": {},
   "source": [
    "## Convolution "
   ]
  },
  {
   "cell_type": "markdown",
   "metadata": {},
   "source": [
    "### Convolve first version\n",
    "\n",
    "- Start with an array of the same size of the padded array\n",
    "- Loop over the indexes\n",
    "- Compute the neighborhood of each index\n",
    "- Take a view of the array in the neighborhood\n",
    "- Multiply element by element the view and the filter and sum"
   ]
  },
  {
   "cell_type": "code",
   "execution_count": 239,
   "metadata": {},
   "outputs": [
    {
     "data": {
      "text/plain": [
       "convolve1 (generic function with 3 methods)"
      ]
     },
     "execution_count": 239,
     "metadata": {},
     "output_type": "execute_result"
    }
   ],
   "source": [
    "function convolve1(I::CartesianIndex{2}, \n",
    "                   fxy::Array{Float64,2}, \n",
    "                   padf::OffsetArray, \n",
    "                   filter::Array{Float64,2})\n",
    "    \n",
    "    # start with an array of the size of fxy filled with zeros\n",
    "    fc = similar(fxy)\n",
    "    \n",
    "    for i in range  # loop over the Cartesian Indices\n",
    "        frame = filter_frame(i, size(filter, 1)) # take a frame\n",
    "        d = view(padf, frame...) # and use the frame to obtain a view of padf\n",
    "        fc[i] = sum(d .* filter) # replace element by sum of products\n",
    "    end\n",
    "    return fc\n",
    "end"
   ]
  },
  {
   "cell_type": "code",
   "execution_count": 249,
   "metadata": {},
   "outputs": [
    {
     "data": {
      "text/plain": [
       "5×5 Array{Float64,2}:\n",
       " 0.0  0.0  0.0  0.0  0.0\n",
       " 0.0  9.0  8.0  7.0  0.0\n",
       " 0.0  6.0  5.0  4.0  0.0\n",
       " 0.0  3.0  2.0  1.0  0.0\n",
       " 0.0  0.0  0.0  0.0  0.0"
      ]
     },
     "execution_count": 249,
     "metadata": {},
     "output_type": "execute_result"
    }
   ],
   "source": [
    "fc1 = convolve1(cr, fxy, fxyp, w)"
   ]
  },
  {
   "cell_type": "markdown",
   "metadata": {},
   "source": [
    "#### NB! \n",
    "Our convolve1 function has performed a correlation, not a convolution! We can obtain the convolution flipping the result"
   ]
  },
  {
   "cell_type": "code",
   "execution_count": 248,
   "metadata": {},
   "outputs": [
    {
     "data": {
      "text/plain": [
       "5×5 Array{Float64,2}:\n",
       " 0.0  0.0  0.0  0.0  0.0\n",
       " 0.0  1.0  2.0  3.0  0.0\n",
       " 0.0  4.0  5.0  6.0  0.0\n",
       " 0.0  7.0  8.0  9.0  0.0\n",
       " 0.0  0.0  0.0  0.0  0.0"
      ]
     },
     "execution_count": 248,
     "metadata": {},
     "output_type": "execute_result"
    }
   ],
   "source": [
    "ffc1 = flip2d(fc1)"
   ]
  },
  {
   "cell_type": "markdown",
   "metadata": {},
   "source": [
    "We obtain the same result flipping the kernel"
   ]
  },
  {
   "cell_type": "code",
   "execution_count": 250,
   "metadata": {},
   "outputs": [
    {
     "data": {
      "text/plain": [
       "5×5 Array{Float64,2}:\n",
       " 0.0  0.0  0.0  0.0  0.0\n",
       " 0.0  1.0  2.0  3.0  0.0\n",
       " 0.0  4.0  5.0  6.0  0.0\n",
       " 0.0  7.0  8.0  9.0  0.0\n",
       " 0.0  0.0  0.0  0.0  0.0"
      ]
     },
     "execution_count": 250,
     "metadata": {},
     "output_type": "execute_result"
    }
   ],
   "source": [
    "fc2 = convolve1(cr, fxy, fxyp, flip2d(w))"
   ]
  },
  {
   "cell_type": "markdown",
   "metadata": {},
   "source": [
    "Notice that we have performed a correlation, not a convolution. To perform a convolution we need to flip the function of the kernel"
   ]
  },
  {
   "cell_type": "markdown",
   "metadata": {},
   "source": [
    "Flipping the function "
   ]
  },
  {
   "cell_type": "markdown",
   "metadata": {},
   "source": [
    "### Convolve, second version\n",
    "\n",
    "A more compact version of convolve takes advantage of broadcasting. The function is applied like this\n",
    "\n",
    "`f_convolved .= convolve2D.(range,(padded_img,), (filter,))`\n",
    "\n",
    "This means that each element of the blurred image (f_convolved .=) is computed passing an element of the range that was produced by the padding (CartesianIndices ranging from 1:5 in each axis), and the full padded_img and filter (thus the notation (padded_img,) an (filter,)). The algorithm goes like this:\n",
    "\n",
    "1. Given an index of the original image (.eg, (3,3), whose value is 1), take its neighborhood, which extends 3 to the left and 3 to the right (thus 0:6, 0:6). In the case of the first index ((1,1) whose value i 0), we go -2:4, -2:4.\n",
    "2. We then compute the view of this element  and its neighborhood, which corresponds to the frame (fr) that needs to be multiplied by the filter (w).\n",
    "3. Next we multiply fr and w element by element\n",
    "4. finally we sum"
   ]
  },
  {
   "cell_type": "code",
   "execution_count": 252,
   "metadata": {},
   "outputs": [
    {
     "data": {
      "text/plain": [
       "convolve2D (generic function with 1 method)"
      ]
     },
     "execution_count": 252,
     "metadata": {},
     "output_type": "execute_result"
    }
   ],
   "source": [
    "function convolve2D(I, padf, filter) \n",
    "    # I rather than range, we will apply this function index by index\n",
    "    frame = filter_frame(I, size(filter, 1))\n",
    "    d  = view(padf, frame...)\n",
    "    sum(d .* filter)  # returns the view corresponding to index I\n",
    "end"
   ]
  },
  {
   "cell_type": "code",
   "execution_count": 253,
   "metadata": {},
   "outputs": [],
   "source": [
    "fcc1 = similar(fxy);"
   ]
  },
  {
   "cell_type": "code",
   "execution_count": 254,
   "metadata": {},
   "outputs": [],
   "source": [
    "fcc1 .= convolve2D.(cr, (fxyp,), (w,));"
   ]
  },
  {
   "cell_type": "code",
   "execution_count": 255,
   "metadata": {},
   "outputs": [
    {
     "data": {
      "text/plain": [
       "5×5 Array{Float64,2}:\n",
       " 0.0  0.0  0.0  0.0  0.0\n",
       " 0.0  9.0  8.0  7.0  0.0\n",
       " 0.0  6.0  5.0  4.0  0.0\n",
       " 0.0  3.0  2.0  1.0  0.0\n",
       " 0.0  0.0  0.0  0.0  0.0"
      ]
     },
     "execution_count": 255,
     "metadata": {},
     "output_type": "execute_result"
    }
   ],
   "source": [
    "fcc1"
   ]
  },
  {
   "cell_type": "code",
   "execution_count": 256,
   "metadata": {},
   "outputs": [
    {
     "data": {
      "text/plain": [
       "5×5 Array{Float64,2}:\n",
       " 0.0  0.0  0.0  0.0  0.0\n",
       " 0.0  1.0  2.0  3.0  0.0\n",
       " 0.0  4.0  5.0  6.0  0.0\n",
       " 0.0  7.0  8.0  9.0  0.0\n",
       " 0.0  0.0  0.0  0.0  0.0"
      ]
     },
     "execution_count": 256,
     "metadata": {},
     "output_type": "execute_result"
    }
   ],
   "source": [
    "flip2d(fcc1)"
   ]
  },
  {
   "cell_type": "code",
   "execution_count": null,
   "metadata": {},
   "outputs": [],
   "source": []
  }
 ],
 "metadata": {
  "kernelspec": {
   "display_name": "Julia 1.5.3",
   "language": "julia",
   "name": "julia-1.5"
  },
  "language_info": {
   "file_extension": ".jl",
   "mimetype": "application/julia",
   "name": "julia",
   "version": "1.5.3"
  }
 },
 "nbformat": 4,
 "nbformat_minor": 4
}
